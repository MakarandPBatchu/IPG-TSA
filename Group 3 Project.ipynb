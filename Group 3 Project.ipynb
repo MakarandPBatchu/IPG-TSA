{
 "cells": [
  {
   "cell_type": "code",
   "execution_count": 1,
   "metadata": {},
   "outputs": [],
   "source": [
    "# Importing Libraries\n",
    "import numpy as np\n",
    "import pandas as pd\n",
    "import matplotlib.pyplot as plt\n",
    "%matplotlib inline\n",
    "import seaborn as sns"
   ]
  },
  {
   "cell_type": "code",
   "execution_count": 2,
   "metadata": {},
   "outputs": [
    {
     "data": {
      "text/html": [
       "<div>\n",
       "<style scoped>\n",
       "    .dataframe tbody tr th:only-of-type {\n",
       "        vertical-align: middle;\n",
       "    }\n",
       "\n",
       "    .dataframe tbody tr th {\n",
       "        vertical-align: top;\n",
       "    }\n",
       "\n",
       "    .dataframe thead th {\n",
       "        text-align: right;\n",
       "    }\n",
       "</style>\n",
       "<table border=\"1\" class=\"dataframe\">\n",
       "  <thead>\n",
       "    <tr style=\"text-align: right;\">\n",
       "      <th></th>\n",
       "      <th>IPG2211A2N</th>\n",
       "    </tr>\n",
       "    <tr>\n",
       "      <th>DATE</th>\n",
       "      <th></th>\n",
       "    </tr>\n",
       "  </thead>\n",
       "  <tbody>\n",
       "    <tr>\n",
       "      <th>1939-01-01</th>\n",
       "      <td>3.3842</td>\n",
       "    </tr>\n",
       "    <tr>\n",
       "      <th>1939-02-01</th>\n",
       "      <td>3.4100</td>\n",
       "    </tr>\n",
       "    <tr>\n",
       "      <th>1939-03-01</th>\n",
       "      <td>3.4875</td>\n",
       "    </tr>\n",
       "    <tr>\n",
       "      <th>1939-04-01</th>\n",
       "      <td>3.5133</td>\n",
       "    </tr>\n",
       "    <tr>\n",
       "      <th>1939-05-01</th>\n",
       "      <td>3.5133</td>\n",
       "    </tr>\n",
       "  </tbody>\n",
       "</table>\n",
       "</div>"
      ],
      "text/plain": [
       "            IPG2211A2N\n",
       "DATE                  \n",
       "1939-01-01      3.3842\n",
       "1939-02-01      3.4100\n",
       "1939-03-01      3.4875\n",
       "1939-04-01      3.5133\n",
       "1939-05-01      3.5133"
      ]
     },
     "execution_count": 2,
     "metadata": {},
     "output_type": "execute_result"
    }
   ],
   "source": [
    "# loading data\n",
    "data=pd.read_csv('C:/Users/user/PGP-DSE/Time Series/Project group - 3/Electric_Production.csv',header=0,index_col=0,\n",
    "                parse_dates=['DATE'])\n",
    "data.head()"
   ]
  },
  {
   "cell_type": "code",
   "execution_count": 3,
   "metadata": {},
   "outputs": [],
   "source": [
    "data.rename({'IPG2211A2N':'IPG'},axis=1,inplace=True)"
   ]
  },
  {
   "cell_type": "code",
   "execution_count": 4,
   "metadata": {
    "scrolled": true
   },
   "outputs": [
    {
     "data": {
      "text/html": [
       "<div>\n",
       "<style scoped>\n",
       "    .dataframe tbody tr th:only-of-type {\n",
       "        vertical-align: middle;\n",
       "    }\n",
       "\n",
       "    .dataframe tbody tr th {\n",
       "        vertical-align: top;\n",
       "    }\n",
       "\n",
       "    .dataframe thead th {\n",
       "        text-align: right;\n",
       "    }\n",
       "</style>\n",
       "<table border=\"1\" class=\"dataframe\">\n",
       "  <thead>\n",
       "    <tr style=\"text-align: right;\">\n",
       "      <th></th>\n",
       "      <th>IPG</th>\n",
       "    </tr>\n",
       "    <tr>\n",
       "      <th>DATE</th>\n",
       "      <th></th>\n",
       "    </tr>\n",
       "  </thead>\n",
       "  <tbody>\n",
       "    <tr>\n",
       "      <th>1939-01-01</th>\n",
       "      <td>3.3842</td>\n",
       "    </tr>\n",
       "    <tr>\n",
       "      <th>1939-02-01</th>\n",
       "      <td>3.4100</td>\n",
       "    </tr>\n",
       "    <tr>\n",
       "      <th>1939-03-01</th>\n",
       "      <td>3.4875</td>\n",
       "    </tr>\n",
       "    <tr>\n",
       "      <th>1939-04-01</th>\n",
       "      <td>3.5133</td>\n",
       "    </tr>\n",
       "    <tr>\n",
       "      <th>1939-05-01</th>\n",
       "      <td>3.5133</td>\n",
       "    </tr>\n",
       "  </tbody>\n",
       "</table>\n",
       "</div>"
      ],
      "text/plain": [
       "               IPG\n",
       "DATE              \n",
       "1939-01-01  3.3842\n",
       "1939-02-01  3.4100\n",
       "1939-03-01  3.4875\n",
       "1939-04-01  3.5133\n",
       "1939-05-01  3.5133"
      ]
     },
     "execution_count": 4,
     "metadata": {},
     "output_type": "execute_result"
    }
   ],
   "source": [
    "data.head()"
   ]
  },
  {
   "cell_type": "code",
   "execution_count": 5,
   "metadata": {},
   "outputs": [
    {
     "data": {
      "text/html": [
       "<div>\n",
       "<style scoped>\n",
       "    .dataframe tbody tr th:only-of-type {\n",
       "        vertical-align: middle;\n",
       "    }\n",
       "\n",
       "    .dataframe tbody tr th {\n",
       "        vertical-align: top;\n",
       "    }\n",
       "\n",
       "    .dataframe thead th {\n",
       "        text-align: right;\n",
       "    }\n",
       "</style>\n",
       "<table border=\"1\" class=\"dataframe\">\n",
       "  <thead>\n",
       "    <tr style=\"text-align: right;\">\n",
       "      <th></th>\n",
       "      <th>1939</th>\n",
       "      <th>1940</th>\n",
       "      <th>1941</th>\n",
       "      <th>1942</th>\n",
       "      <th>1943</th>\n",
       "      <th>1944</th>\n",
       "      <th>1945</th>\n",
       "      <th>1946</th>\n",
       "      <th>1947</th>\n",
       "      <th>1948</th>\n",
       "      <th>...</th>\n",
       "      <th>2010</th>\n",
       "      <th>2011</th>\n",
       "      <th>2012</th>\n",
       "      <th>2013</th>\n",
       "      <th>2014</th>\n",
       "      <th>2015</th>\n",
       "      <th>2016</th>\n",
       "      <th>2017</th>\n",
       "      <th>2018</th>\n",
       "      <th>2019</th>\n",
       "    </tr>\n",
       "  </thead>\n",
       "  <tbody>\n",
       "    <tr>\n",
       "      <th>0</th>\n",
       "      <td>3.3842</td>\n",
       "      <td>3.7717</td>\n",
       "      <td>4.1850</td>\n",
       "      <td>4.8050</td>\n",
       "      <td>5.2184</td>\n",
       "      <td>5.7350</td>\n",
       "      <td>6.0192</td>\n",
       "      <td>5.9417</td>\n",
       "      <td>6.7425</td>\n",
       "      <td>7.6467</td>\n",
       "      <td>...</td>\n",
       "      <td>119.2473</td>\n",
       "      <td>119.7475</td>\n",
       "      <td>111.8351</td>\n",
       "      <td>115.2323</td>\n",
       "      <td>124.0216</td>\n",
       "      <td>119.9317</td>\n",
       "      <td>116.8926</td>\n",
       "      <td>116.4746</td>\n",
       "      <td>128.9071</td>\n",
       "      <td>123.7679</td>\n",
       "    </tr>\n",
       "    <tr>\n",
       "      <th>1</th>\n",
       "      <td>3.4100</td>\n",
       "      <td>3.8233</td>\n",
       "      <td>4.2367</td>\n",
       "      <td>4.8567</td>\n",
       "      <td>5.2959</td>\n",
       "      <td>5.8125</td>\n",
       "      <td>6.0192</td>\n",
       "      <td>5.9417</td>\n",
       "      <td>6.6134</td>\n",
       "      <td>7.4659</td>\n",
       "      <td>...</td>\n",
       "      <td>110.7525</td>\n",
       "      <td>107.4965</td>\n",
       "      <td>103.3433</td>\n",
       "      <td>106.4512</td>\n",
       "      <td>112.6796</td>\n",
       "      <td>116.1393</td>\n",
       "      <td>105.9614</td>\n",
       "      <td>99.5393</td>\n",
       "      <td>107.6711</td>\n",
       "      <td>113.0855</td>\n",
       "    </tr>\n",
       "    <tr>\n",
       "      <th>2</th>\n",
       "      <td>3.4875</td>\n",
       "      <td>3.8492</td>\n",
       "      <td>4.2883</td>\n",
       "      <td>4.8825</td>\n",
       "      <td>5.3217</td>\n",
       "      <td>5.9159</td>\n",
       "      <td>5.9934</td>\n",
       "      <td>5.9417</td>\n",
       "      <td>6.5617</td>\n",
       "      <td>7.4917</td>\n",
       "      <td>...</td>\n",
       "      <td>98.3430</td>\n",
       "      <td>99.1848</td>\n",
       "      <td>93.4051</td>\n",
       "      <td>102.6701</td>\n",
       "      <td>104.4158</td>\n",
       "      <td>104.0218</td>\n",
       "      <td>94.2339</td>\n",
       "      <td>101.0063</td>\n",
       "      <td>104.5716</td>\n",
       "      <td>108.0490</td>\n",
       "    </tr>\n",
       "    <tr>\n",
       "      <th>3</th>\n",
       "      <td>3.5133</td>\n",
       "      <td>3.8492</td>\n",
       "      <td>4.3400</td>\n",
       "      <td>4.8825</td>\n",
       "      <td>5.3992</td>\n",
       "      <td>5.9417</td>\n",
       "      <td>5.9934</td>\n",
       "      <td>6.0450</td>\n",
       "      <td>6.5617</td>\n",
       "      <td>7.3367</td>\n",
       "      <td>...</td>\n",
       "      <td>86.2612</td>\n",
       "      <td>89.3568</td>\n",
       "      <td>87.4539</td>\n",
       "      <td>90.6136</td>\n",
       "      <td>89.8017</td>\n",
       "      <td>89.1544</td>\n",
       "      <td>88.1615</td>\n",
       "      <td>87.0374</td>\n",
       "      <td>93.4491</td>\n",
       "      <td>88.8719</td>\n",
       "    </tr>\n",
       "    <tr>\n",
       "      <th>4</th>\n",
       "      <td>3.5133</td>\n",
       "      <td>3.8750</td>\n",
       "      <td>4.3658</td>\n",
       "      <td>4.8825</td>\n",
       "      <td>5.4250</td>\n",
       "      <td>5.9417</td>\n",
       "      <td>6.0450</td>\n",
       "      <td>6.0967</td>\n",
       "      <td>6.5359</td>\n",
       "      <td>7.1817</td>\n",
       "      <td>...</td>\n",
       "      <td>90.8459</td>\n",
       "      <td>90.0903</td>\n",
       "      <td>92.7704</td>\n",
       "      <td>90.7000</td>\n",
       "      <td>91.8610</td>\n",
       "      <td>90.6950</td>\n",
       "      <td>89.4711</td>\n",
       "      <td>90.3591</td>\n",
       "      <td>93.2405</td>\n",
       "      <td>NaN</td>\n",
       "    </tr>\n",
       "    <tr>\n",
       "      <th>5</th>\n",
       "      <td>3.5650</td>\n",
       "      <td>3.9267</td>\n",
       "      <td>4.4433</td>\n",
       "      <td>4.9084</td>\n",
       "      <td>5.5284</td>\n",
       "      <td>5.9417</td>\n",
       "      <td>6.1225</td>\n",
       "      <td>6.1225</td>\n",
       "      <td>6.5359</td>\n",
       "      <td>7.2334</td>\n",
       "      <td>...</td>\n",
       "      <td>104.4774</td>\n",
       "      <td>102.9273</td>\n",
       "      <td>101.2446</td>\n",
       "      <td>100.6631</td>\n",
       "      <td>101.6422</td>\n",
       "      <td>102.8863</td>\n",
       "      <td>103.4258</td>\n",
       "      <td>100.4412</td>\n",
       "      <td>103.3083</td>\n",
       "      <td>NaN</td>\n",
       "    </tr>\n",
       "    <tr>\n",
       "      <th>6</th>\n",
       "      <td>3.5650</td>\n",
       "      <td>3.9267</td>\n",
       "      <td>4.4950</td>\n",
       "      <td>5.0634</td>\n",
       "      <td>5.5800</td>\n",
       "      <td>5.8900</td>\n",
       "      <td>6.0967</td>\n",
       "      <td>6.2517</td>\n",
       "      <td>6.5359</td>\n",
       "      <td>7.2850</td>\n",
       "      <td>...</td>\n",
       "      <td>113.1386</td>\n",
       "      <td>114.9326</td>\n",
       "      <td>113.3866</td>\n",
       "      <td>110.3583</td>\n",
       "      <td>108.6330</td>\n",
       "      <td>111.9826</td>\n",
       "      <td>114.1946</td>\n",
       "      <td>111.2371</td>\n",
       "      <td>113.3178</td>\n",
       "      <td>NaN</td>\n",
       "    </tr>\n",
       "    <tr>\n",
       "      <th>7</th>\n",
       "      <td>3.6167</td>\n",
       "      <td>3.9783</td>\n",
       "      <td>4.5467</td>\n",
       "      <td>5.0892</td>\n",
       "      <td>5.6059</td>\n",
       "      <td>5.9159</td>\n",
       "      <td>5.9934</td>\n",
       "      <td>6.3550</td>\n",
       "      <td>6.7167</td>\n",
       "      <td>7.4659</td>\n",
       "      <td>...</td>\n",
       "      <td>113.2550</td>\n",
       "      <td>113.7650</td>\n",
       "      <td>110.1671</td>\n",
       "      <td>108.4228</td>\n",
       "      <td>108.3892</td>\n",
       "      <td>110.7643</td>\n",
       "      <td>115.5015</td>\n",
       "      <td>107.7583</td>\n",
       "      <td>113.2758</td>\n",
       "      <td>NaN</td>\n",
       "    </tr>\n",
       "    <tr>\n",
       "      <th>8</th>\n",
       "      <td>3.7200</td>\n",
       "      <td>4.0300</td>\n",
       "      <td>4.5725</td>\n",
       "      <td>5.1150</td>\n",
       "      <td>5.7092</td>\n",
       "      <td>5.8900</td>\n",
       "      <td>5.8900</td>\n",
       "      <td>6.4325</td>\n",
       "      <td>6.8459</td>\n",
       "      <td>7.5950</td>\n",
       "      <td>...</td>\n",
       "      <td>100.3372</td>\n",
       "      <td>99.5821</td>\n",
       "      <td>96.9014</td>\n",
       "      <td>99.3427</td>\n",
       "      <td>100.4238</td>\n",
       "      <td>101.7996</td>\n",
       "      <td>102.2398</td>\n",
       "      <td>97.0813</td>\n",
       "      <td>101.5656</td>\n",
       "      <td>NaN</td>\n",
       "    </tr>\n",
       "    <tr>\n",
       "      <th>9</th>\n",
       "      <td>3.7200</td>\n",
       "      <td>4.0558</td>\n",
       "      <td>4.5983</td>\n",
       "      <td>5.1150</td>\n",
       "      <td>5.7092</td>\n",
       "      <td>5.8384</td>\n",
       "      <td>5.8384</td>\n",
       "      <td>6.5100</td>\n",
       "      <td>6.8717</td>\n",
       "      <td>7.6725</td>\n",
       "      <td>...</td>\n",
       "      <td>89.0653</td>\n",
       "      <td>90.3241</td>\n",
       "      <td>90.2609</td>\n",
       "      <td>91.6671</td>\n",
       "      <td>92.1366</td>\n",
       "      <td>90.9888</td>\n",
       "      <td>90.8499</td>\n",
       "      <td>92.3020</td>\n",
       "      <td>95.3203</td>\n",
       "      <td>NaN</td>\n",
       "    </tr>\n",
       "    <tr>\n",
       "      <th>10</th>\n",
       "      <td>3.7458</td>\n",
       "      <td>4.1592</td>\n",
       "      <td>4.6500</td>\n",
       "      <td>5.1925</td>\n",
       "      <td>5.7867</td>\n",
       "      <td>5.8900</td>\n",
       "      <td>5.8900</td>\n",
       "      <td>6.5359</td>\n",
       "      <td>6.9492</td>\n",
       "      <td>7.7759</td>\n",
       "      <td>...</td>\n",
       "      <td>92.8343</td>\n",
       "      <td>93.7486</td>\n",
       "      <td>94.2111</td>\n",
       "      <td>96.9845</td>\n",
       "      <td>99.1114</td>\n",
       "      <td>92.2113</td>\n",
       "      <td>92.6032</td>\n",
       "      <td>97.7214</td>\n",
       "      <td>103.5750</td>\n",
       "      <td>NaN</td>\n",
       "    </tr>\n",
       "    <tr>\n",
       "      <th>11</th>\n",
       "      <td>3.7458</td>\n",
       "      <td>4.1592</td>\n",
       "      <td>4.7533</td>\n",
       "      <td>5.2700</td>\n",
       "      <td>5.7867</td>\n",
       "      <td>5.9159</td>\n",
       "      <td>5.9417</td>\n",
       "      <td>6.5617</td>\n",
       "      <td>7.2850</td>\n",
       "      <td>8.0859</td>\n",
       "      <td>...</td>\n",
       "      <td>114.5367</td>\n",
       "      <td>107.3309</td>\n",
       "      <td>105.0203</td>\n",
       "      <td>113.3465</td>\n",
       "      <td>108.9783</td>\n",
       "      <td>102.3222</td>\n",
       "      <td>114.0219</td>\n",
       "      <td>117.2377</td>\n",
       "      <td>112.9498</td>\n",
       "      <td>NaN</td>\n",
       "    </tr>\n",
       "  </tbody>\n",
       "</table>\n",
       "<p>12 rows × 81 columns</p>\n",
       "</div>"
      ],
      "text/plain": [
       "      1939    1940    1941    1942    1943    1944    1945    1946    1947  \\\n",
       "0   3.3842  3.7717  4.1850  4.8050  5.2184  5.7350  6.0192  5.9417  6.7425   \n",
       "1   3.4100  3.8233  4.2367  4.8567  5.2959  5.8125  6.0192  5.9417  6.6134   \n",
       "2   3.4875  3.8492  4.2883  4.8825  5.3217  5.9159  5.9934  5.9417  6.5617   \n",
       "3   3.5133  3.8492  4.3400  4.8825  5.3992  5.9417  5.9934  6.0450  6.5617   \n",
       "4   3.5133  3.8750  4.3658  4.8825  5.4250  5.9417  6.0450  6.0967  6.5359   \n",
       "5   3.5650  3.9267  4.4433  4.9084  5.5284  5.9417  6.1225  6.1225  6.5359   \n",
       "6   3.5650  3.9267  4.4950  5.0634  5.5800  5.8900  6.0967  6.2517  6.5359   \n",
       "7   3.6167  3.9783  4.5467  5.0892  5.6059  5.9159  5.9934  6.3550  6.7167   \n",
       "8   3.7200  4.0300  4.5725  5.1150  5.7092  5.8900  5.8900  6.4325  6.8459   \n",
       "9   3.7200  4.0558  4.5983  5.1150  5.7092  5.8384  5.8384  6.5100  6.8717   \n",
       "10  3.7458  4.1592  4.6500  5.1925  5.7867  5.8900  5.8900  6.5359  6.9492   \n",
       "11  3.7458  4.1592  4.7533  5.2700  5.7867  5.9159  5.9417  6.5617  7.2850   \n",
       "\n",
       "      1948    ...         2010      2011      2012      2013      2014  \\\n",
       "0   7.6467    ...     119.2473  119.7475  111.8351  115.2323  124.0216   \n",
       "1   7.4659    ...     110.7525  107.4965  103.3433  106.4512  112.6796   \n",
       "2   7.4917    ...      98.3430   99.1848   93.4051  102.6701  104.4158   \n",
       "3   7.3367    ...      86.2612   89.3568   87.4539   90.6136   89.8017   \n",
       "4   7.1817    ...      90.8459   90.0903   92.7704   90.7000   91.8610   \n",
       "5   7.2334    ...     104.4774  102.9273  101.2446  100.6631  101.6422   \n",
       "6   7.2850    ...     113.1386  114.9326  113.3866  110.3583  108.6330   \n",
       "7   7.4659    ...     113.2550  113.7650  110.1671  108.4228  108.3892   \n",
       "8   7.5950    ...     100.3372   99.5821   96.9014   99.3427  100.4238   \n",
       "9   7.6725    ...      89.0653   90.3241   90.2609   91.6671   92.1366   \n",
       "10  7.7759    ...      92.8343   93.7486   94.2111   96.9845   99.1114   \n",
       "11  8.0859    ...     114.5367  107.3309  105.0203  113.3465  108.9783   \n",
       "\n",
       "        2015      2016      2017      2018      2019  \n",
       "0   119.9317  116.8926  116.4746  128.9071  123.7679  \n",
       "1   116.1393  105.9614   99.5393  107.6711  113.0855  \n",
       "2   104.0218   94.2339  101.0063  104.5716  108.0490  \n",
       "3    89.1544   88.1615   87.0374   93.4491   88.8719  \n",
       "4    90.6950   89.4711   90.3591   93.2405       NaN  \n",
       "5   102.8863  103.4258  100.4412  103.3083       NaN  \n",
       "6   111.9826  114.1946  111.2371  113.3178       NaN  \n",
       "7   110.7643  115.5015  107.7583  113.2758       NaN  \n",
       "8   101.7996  102.2398   97.0813  101.5656       NaN  \n",
       "9    90.9888   90.8499   92.3020   95.3203       NaN  \n",
       "10   92.2113   92.6032   97.7214  103.5750       NaN  \n",
       "11  102.3222  114.0219  117.2377  112.9498       NaN  \n",
       "\n",
       "[12 rows x 81 columns]"
      ]
     },
     "execution_count": 5,
     "metadata": {},
     "output_type": "execute_result"
    }
   ],
   "source": [
    "# Group by monthly data\n",
    "\n",
    "groups = data.groupby(pd.Grouper(freq='A')) # grouping the one year data as months\n",
    "\n",
    "months= pd.concat([pd.DataFrame(x[1].values) for x in groups],axis=1) # x[1] because x[0] is dates and x[1] is the temps\n",
    "months=pd.DataFrame(months)\n",
    "\n",
    "# Adding cols 1 tol 12\n",
    "months.columns=range(1939,2020)\n",
    "\n",
    "months\n"
   ]
  },
  {
   "cell_type": "code",
   "execution_count": 6,
   "metadata": {},
   "outputs": [
    {
     "name": "stdout",
     "output_type": "stream",
     "text": [
      "<class 'pandas.core.frame.DataFrame'>\n",
      "DatetimeIndex: 964 entries, 1939-01-01 to 2019-04-01\n",
      "Data columns (total 1 columns):\n",
      "IPG    964 non-null float64\n",
      "dtypes: float64(1)\n",
      "memory usage: 15.1 KB\n"
     ]
    }
   ],
   "source": [
    "# EDA and data cleaning (if required)\n",
    "data.info()"
   ]
  },
  {
   "cell_type": "code",
   "execution_count": 7,
   "metadata": {},
   "outputs": [
    {
     "data": {
      "text/plain": [
       "0"
      ]
     },
     "execution_count": 7,
     "metadata": {},
     "output_type": "execute_result"
    }
   ],
   "source": [
    "data['IPG'].isnull().sum() # no nulls"
   ]
  },
  {
   "cell_type": "code",
   "execution_count": 8,
   "metadata": {},
   "outputs": [
    {
     "data": {
      "text/plain": [
       "<matplotlib.axes._subplots.AxesSubplot at 0xab4bba8>"
      ]
     },
     "execution_count": 8,
     "metadata": {},
     "output_type": "execute_result"
    },
    {
     "data": {
      "image/png": "[encoded data removed]",
      "text/plain": [
       "<Figure size 720x432 with 1 Axes>"
      ]
     },
     "metadata": {
      "needs_background": "light"
     },
     "output_type": "display_data"
    }
   ],
   "source": [
    "data.plot(figsize=(10,6)) # data looks to have multiplicative components"
   ]
  },
  {
   "cell_type": "markdown",
   "metadata": {},
   "source": [
    "### Decomposition"
   ]
  },
  {
   "cell_type": "code",
   "execution_count": 9,
   "metadata": {},
   "outputs": [],
   "source": [
    "from statsmodels.tsa.seasonal import seasonal_decompose"
   ]
  },
  {
   "cell_type": "code",
   "execution_count": 10,
   "metadata": {},
   "outputs": [
    {
     "data": {
      "text/plain": [
       "<Figure size 720x432 with 0 Axes>"
      ]
     },
     "metadata": {},
     "output_type": "display_data"
    },
    {
     "data": {
      "image/png": "[encoded data removed]",
      "text/plain": [
       "<Figure size 432x288 with 4 Axes>"
      ]
     },
     "metadata": {
      "needs_background": "light"
     },
     "output_type": "display_data"
    }
   ],
   "source": [
    "decomp_data=seasonal_decompose(data,model='multiplicative',freq=12)\n",
    "plt.figure(figsize=(10,6))\n",
    "decomp_data.plot()\n",
    "plt.show()"
   ]
  },
  {
   "cell_type": "code",
   "execution_count": 11,
   "metadata": {},
   "outputs": [],
   "source": [
    "# Extract all the components\n",
    "trend=decomp_data.trend\n",
    "seasonal=decomp_data.seasonal\n",
    "residual=decomp_data.resid"
   ]
  },
  {
   "cell_type": "code",
   "execution_count": 12,
   "metadata": {},
   "outputs": [
    {
     "name": "stdout",
     "output_type": "stream",
     "text": [
      "Multiplicative model output: \n",
      "\n",
      "\n",
      " Trend: \n",
      "\n",
      "                 IPG\n",
      "DATE                \n",
      "1939-01-01       NaN\n",
      "1939-02-01       NaN\n",
      "1939-03-01       NaN\n",
      "1939-04-01       NaN\n",
      "1939-05-01       NaN\n",
      "1939-06-01       NaN\n",
      "1939-07-01  3.598362\n",
      "1939-08-01  3.631729\n",
      "1939-09-01  3.664021\n",
      "1939-10-01  3.693087\n",
      "1939-11-01  3.722154\n",
      "1939-12-01  3.752296\n",
      "\n",
      " Seasonal \n",
      "\n",
      "                 IPG\n",
      "DATE                \n",
      "1939-01-01  1.108165\n",
      "1939-02-01  1.053654\n",
      "1939-03-01  1.006312\n",
      "1939-04-01  0.938987\n",
      "1939-05-01  0.924580\n",
      "1939-06-01  0.975754\n",
      "1939-07-01  1.028108\n",
      "1939-08-01  1.039976\n",
      "1939-09-01  0.986199\n",
      "1939-10-01  0.937390\n",
      "1939-11-01  0.955969\n",
      "1939-12-01  1.044906\n",
      "\n",
      " Residuals: \n",
      "\n",
      "                 IPG\n",
      "DATE                \n",
      "1939-01-01       NaN\n",
      "1939-02-01       NaN\n",
      "1939-03-01       NaN\n",
      "1939-04-01       NaN\n",
      "1939-05-01       NaN\n",
      "1939-06-01       NaN\n",
      "1939-07-01  0.963643\n",
      "1939-08-01  0.957582\n",
      "1939-09-01  1.029486\n",
      "1939-10-01  1.074566\n",
      "1939-11-01  1.052704\n",
      "1939-12-01  0.955367\n"
     ]
    }
   ],
   "source": [
    "# printing the component heads\n",
    "\n",
    "print('Multiplicative model output: \\n')\n",
    "print('\\n Trend: \\n')\n",
    "print(trend.head(12))\n",
    "print('\\n Seasonal \\n')\n",
    "print(seasonal.head(12))\n",
    "print('\\n Residuals: \\n')\n",
    "print(residual.head(12))"
   ]
  },
  {
   "cell_type": "markdown",
   "metadata": {},
   "source": [
    "### Detrending the data"
   ]
  },
  {
   "cell_type": "code",
   "execution_count": 13,
   "metadata": {},
   "outputs": [
    {
     "data": {
      "text/plain": [
       "[<matplotlib.lines.Line2D at 0xb0a1a20>]"
      ]
     },
     "execution_count": 13,
     "metadata": {},
     "output_type": "execute_result"
    },
    {
     "data": {
      "image/png": "[encoded data removed]",
      "text/plain": [
       "<Figure size 432x288 with 1 Axes>"
      ]
     },
     "metadata": {
      "needs_background": "light"
     },
     "output_type": "display_data"
    }
   ],
   "source": [
    "x=data['IPG'].copy()\n",
    "diff=[]\n",
    "for i in range(1,len(x)):\n",
    "    val=x[i]-x[i-1]\n",
    "    diff.append(val)\n",
    "\n",
    "plt.plot(diff)"
   ]
  },
  {
   "cell_type": "code",
   "execution_count": 14,
   "metadata": {},
   "outputs": [
    {
     "data": {
      "text/plain": [
       "963"
      ]
     },
     "execution_count": 14,
     "metadata": {},
     "output_type": "execute_result"
    }
   ],
   "source": [
    "len(diff)"
   ]
  },
  {
   "cell_type": "code",
   "execution_count": 15,
   "metadata": {},
   "outputs": [
    {
     "data": {
      "text/html": [
       "<div>\n",
       "<style scoped>\n",
       "    .dataframe tbody tr th:only-of-type {\n",
       "        vertical-align: middle;\n",
       "    }\n",
       "\n",
       "    .dataframe tbody tr th {\n",
       "        vertical-align: top;\n",
       "    }\n",
       "\n",
       "    .dataframe thead th {\n",
       "        text-align: right;\n",
       "    }\n",
       "</style>\n",
       "<table border=\"1\" class=\"dataframe\">\n",
       "  <thead>\n",
       "    <tr style=\"text-align: right;\">\n",
       "      <th></th>\n",
       "      <th>IPG</th>\n",
       "    </tr>\n",
       "    <tr>\n",
       "      <th>DATE</th>\n",
       "      <th></th>\n",
       "    </tr>\n",
       "  </thead>\n",
       "  <tbody>\n",
       "    <tr>\n",
       "      <th>1939-02-01</th>\n",
       "      <td>-39.6769</td>\n",
       "    </tr>\n",
       "    <tr>\n",
       "      <th>1939-03-01</th>\n",
       "      <td>0.0775</td>\n",
       "    </tr>\n",
       "    <tr>\n",
       "      <th>1939-04-01</th>\n",
       "      <td>0.0258</td>\n",
       "    </tr>\n",
       "    <tr>\n",
       "      <th>1939-05-01</th>\n",
       "      <td>0.0000</td>\n",
       "    </tr>\n",
       "    <tr>\n",
       "      <th>1939-06-01</th>\n",
       "      <td>0.0517</td>\n",
       "    </tr>\n",
       "    <tr>\n",
       "      <th>1939-07-01</th>\n",
       "      <td>0.0000</td>\n",
       "    </tr>\n",
       "    <tr>\n",
       "      <th>1939-08-01</th>\n",
       "      <td>0.0517</td>\n",
       "    </tr>\n",
       "    <tr>\n",
       "      <th>1939-09-01</th>\n",
       "      <td>0.1033</td>\n",
       "    </tr>\n",
       "    <tr>\n",
       "      <th>1939-10-01</th>\n",
       "      <td>0.0000</td>\n",
       "    </tr>\n",
       "    <tr>\n",
       "      <th>1939-11-01</th>\n",
       "      <td>0.0258</td>\n",
       "    </tr>\n",
       "  </tbody>\n",
       "</table>\n",
       "</div>"
      ],
      "text/plain": [
       "                IPG\n",
       "DATE               \n",
       "1939-02-01 -39.6769\n",
       "1939-03-01   0.0775\n",
       "1939-04-01   0.0258\n",
       "1939-05-01   0.0000\n",
       "1939-06-01   0.0517\n",
       "1939-07-01   0.0000\n",
       "1939-08-01   0.0517\n",
       "1939-09-01   0.1033\n",
       "1939-10-01   0.0000\n",
       "1939-11-01   0.0258"
      ]
     },
     "execution_count": 15,
     "metadata": {},
     "output_type": "execute_result"
    }
   ],
   "source": [
    "detrended=pd.DataFrame(data=diff,index=data.index[1:],columns=['IPG'])\n",
    "detrended.head(10)"
   ]
  },
  {
   "cell_type": "markdown",
   "metadata": {},
   "source": [
    "### Deseasonalising the data"
   ]
  },
  {
   "cell_type": "code",
   "execution_count": 16,
   "metadata": {},
   "outputs": [],
   "source": [
    "x=data['IPG']\n",
    "diff=[]\n",
    "months_in_year=12\n",
    "\n",
    "for i in range(months_in_year,len(x)):\n",
    "    val=x[i]-x[i-months_in_year]\n",
    "    diff.append(val)"
   ]
  },
  {
   "cell_type": "code",
   "execution_count": 17,
   "metadata": {},
   "outputs": [
    {
     "data": {
      "text/plain": [
       "952"
      ]
     },
     "execution_count": 17,
     "metadata": {},
     "output_type": "execute_result"
    }
   ],
   "source": [
    "len(diff)"
   ]
  },
  {
   "cell_type": "code",
   "execution_count": 18,
   "metadata": {},
   "outputs": [
    {
     "data": {
      "text/plain": [
       "<matplotlib.legend.Legend at 0xaafecc0>"
      ]
     },
     "execution_count": 18,
     "metadata": {},
     "output_type": "execute_result"
    },
    {
     "data": {
      "image/png": "[encoded data removed]",
      "text/plain": [
       "<Figure size 432x288 with 1 Axes>"
      ]
     },
     "metadata": {
      "needs_background": "light"
     },
     "output_type": "display_data"
    }
   ],
   "source": [
    "plt.plot(diff,label='Deseasonalized')\n",
    "plt.legend()"
   ]
  },
  {
   "cell_type": "markdown",
   "metadata": {},
   "source": [
    "### Modelling"
   ]
  },
  {
   "cell_type": "code",
   "execution_count": 19,
   "metadata": {},
   "outputs": [],
   "source": [
    "data1=data[:'2018-12-01']"
   ]
  },
  {
   "cell_type": "code",
   "execution_count": 20,
   "metadata": {},
   "outputs": [
    {
     "data": {
      "text/html": [
       "<div>\n",
       "<style scoped>\n",
       "    .dataframe tbody tr th:only-of-type {\n",
       "        vertical-align: middle;\n",
       "    }\n",
       "\n",
       "    .dataframe tbody tr th {\n",
       "        vertical-align: top;\n",
       "    }\n",
       "\n",
       "    .dataframe thead th {\n",
       "        text-align: right;\n",
       "    }\n",
       "</style>\n",
       "<table border=\"1\" class=\"dataframe\">\n",
       "  <thead>\n",
       "    <tr style=\"text-align: right;\">\n",
       "      <th></th>\n",
       "      <th>IPG</th>\n",
       "    </tr>\n",
       "    <tr>\n",
       "      <th>DATE</th>\n",
       "      <th></th>\n",
       "    </tr>\n",
       "  </thead>\n",
       "  <tbody>\n",
       "    <tr>\n",
       "      <th>2018-08-01</th>\n",
       "      <td>113.2758</td>\n",
       "    </tr>\n",
       "    <tr>\n",
       "      <th>2018-09-01</th>\n",
       "      <td>101.5656</td>\n",
       "    </tr>\n",
       "    <tr>\n",
       "      <th>2018-10-01</th>\n",
       "      <td>95.3203</td>\n",
       "    </tr>\n",
       "    <tr>\n",
       "      <th>2018-11-01</th>\n",
       "      <td>103.5750</td>\n",
       "    </tr>\n",
       "    <tr>\n",
       "      <th>2018-12-01</th>\n",
       "      <td>112.9498</td>\n",
       "    </tr>\n",
       "  </tbody>\n",
       "</table>\n",
       "</div>"
      ],
      "text/plain": [
       "                 IPG\n",
       "DATE                \n",
       "2018-08-01  113.2758\n",
       "2018-09-01  101.5656\n",
       "2018-10-01   95.3203\n",
       "2018-11-01  103.5750\n",
       "2018-12-01  112.9498"
      ]
     },
     "execution_count": 20,
     "metadata": {},
     "output_type": "execute_result"
    }
   ],
   "source": [
    "data1.tail()"
   ]
  },
  {
   "cell_type": "code",
   "execution_count": 21,
   "metadata": {},
   "outputs": [
    {
     "data": {
      "text/plain": [
       "(960, 1)"
      ]
     },
     "execution_count": 21,
     "metadata": {},
     "output_type": "execute_result"
    }
   ],
   "source": [
    "data1.shape"
   ]
  },
  {
   "cell_type": "code",
   "execution_count": 22,
   "metadata": {},
   "outputs": [
    {
     "name": "stderr",
     "output_type": "stream",
     "text": [
      "C:\\Users\\user\\Anaconda3\\lib\\site-packages\\ipykernel_launcher.py:1: SettingWithCopyWarning: \n",
      "A value is trying to be set on a copy of a slice from a DataFrame.\n",
      "Try using .loc[row_indexer,col_indexer] = value instead\n",
      "\n",
      "See the caveats in the documentation: http://pandas.pydata.org/pandas-docs/stable/indexing.html#indexing-view-versus-copy\n",
      "  \"\"\"Entry point for launching an IPython kernel.\n"
     ]
    }
   ],
   "source": [
    "data1['Month']=np.arange(1,len(data1)+1)"
   ]
  },
  {
   "cell_type": "code",
   "execution_count": 23,
   "metadata": {},
   "outputs": [
    {
     "data": {
      "text/html": [
       "<div>\n",
       "<style scoped>\n",
       "    .dataframe tbody tr th:only-of-type {\n",
       "        vertical-align: middle;\n",
       "    }\n",
       "\n",
       "    .dataframe tbody tr th {\n",
       "        vertical-align: top;\n",
       "    }\n",
       "\n",
       "    .dataframe thead th {\n",
       "        text-align: right;\n",
       "    }\n",
       "</style>\n",
       "<table border=\"1\" class=\"dataframe\">\n",
       "  <thead>\n",
       "    <tr style=\"text-align: right;\">\n",
       "      <th></th>\n",
       "      <th>IPG</th>\n",
       "      <th>Month</th>\n",
       "    </tr>\n",
       "    <tr>\n",
       "      <th>DATE</th>\n",
       "      <th></th>\n",
       "      <th></th>\n",
       "    </tr>\n",
       "  </thead>\n",
       "  <tbody>\n",
       "    <tr>\n",
       "      <th>1995-01-01</th>\n",
       "      <td>92.7412</td>\n",
       "      <td>673</td>\n",
       "    </tr>\n",
       "    <tr>\n",
       "      <th>1995-02-01</th>\n",
       "      <td>87.6670</td>\n",
       "      <td>674</td>\n",
       "    </tr>\n",
       "    <tr>\n",
       "      <th>1995-03-01</th>\n",
       "      <td>81.5205</td>\n",
       "      <td>675</td>\n",
       "    </tr>\n",
       "    <tr>\n",
       "      <th>1995-04-01</th>\n",
       "      <td>74.0457</td>\n",
       "      <td>676</td>\n",
       "    </tr>\n",
       "    <tr>\n",
       "      <th>1995-05-01</th>\n",
       "      <td>73.5003</td>\n",
       "      <td>677</td>\n",
       "    </tr>\n",
       "  </tbody>\n",
       "</table>\n",
       "</div>"
      ],
      "text/plain": [
       "                IPG  Month\n",
       "DATE                      \n",
       "1995-01-01  92.7412    673\n",
       "1995-02-01  87.6670    674\n",
       "1995-03-01  81.5205    675\n",
       "1995-04-01  74.0457    676\n",
       "1995-05-01  73.5003    677"
      ]
     },
     "execution_count": 23,
     "metadata": {},
     "output_type": "execute_result"
    }
   ],
   "source": [
    "train,test=data1[:len(data1)-288],data1[len(data1)-288:]\n",
    "test.head()"
   ]
  },
  {
   "cell_type": "markdown",
   "metadata": {},
   "source": [
    "### Regression On Time"
   ]
  },
  {
   "cell_type": "code",
   "execution_count": 24,
   "metadata": {},
   "outputs": [],
   "source": [
    "from sklearn.linear_model import LinearRegression\n",
    "import sklearn.metrics as metrics"
   ]
  },
  {
   "cell_type": "code",
   "execution_count": 25,
   "metadata": {},
   "outputs": [],
   "source": [
    "xtrain,ytrain=train[['Month']],train[['IPG']]\n",
    "xtest,ytest=test[['Month']],test[['IPG']]"
   ]
  },
  {
   "cell_type": "code",
   "execution_count": 26,
   "metadata": {},
   "outputs": [],
   "source": [
    "lr=LinearRegression()\n",
    "ypred_time=lr.fit(xtrain,ytrain).predict(xtest)"
   ]
  },
  {
   "cell_type": "code",
   "execution_count": 27,
   "metadata": {},
   "outputs": [
    {
     "data": {
      "text/plain": [
       "<matplotlib.legend.Legend at 0xbb35da0>"
      ]
     },
     "execution_count": 27,
     "metadata": {},
     "output_type": "execute_result"
    },
    {
     "data": {
      "image/png": "[encoded data removed]",
      "text/plain": [
       "<Figure size 432x288 with 1 Axes>"
      ]
     },
     "metadata": {
      "needs_background": "light"
     },
     "output_type": "display_data"
    }
   ],
   "source": [
    "plt.plot(np.arange(len(ytest)),ypred_time,label='Predicted')\n",
    "plt.plot(np.arange(len(ytest)),ytest,label='Original')\n",
    "plt.legend()"
   ]
  },
  {
   "cell_type": "code",
   "execution_count": 28,
   "metadata": {},
   "outputs": [
    {
     "data": {
      "text/plain": [
       "9.913628268257199"
      ]
     },
     "execution_count": 28,
     "metadata": {},
     "output_type": "execute_result"
    }
   ],
   "source": [
    "rmse_time= np.sqrt(metrics.mean_squared_error(ytest,ypred_time))\n",
    "rmse_time"
   ]
  },
  {
   "cell_type": "code",
   "execution_count": 29,
   "metadata": {},
   "outputs": [
    {
     "data": {
      "text/plain": [
       "0.08362284881314917"
      ]
     },
     "execution_count": 29,
     "metadata": {},
     "output_type": "execute_result"
    }
   ],
   "source": [
    "mape_time = np.mean(np.abs((ytest-ypred_time)/ytest))\n",
    "mape_time[0]"
   ]
  },
  {
   "cell_type": "code",
   "execution_count": 30,
   "metadata": {},
   "outputs": [
    {
     "data": {
      "text/html": [
       "<div>\n",
       "<style scoped>\n",
       "    .dataframe tbody tr th:only-of-type {\n",
       "        vertical-align: middle;\n",
       "    }\n",
       "\n",
       "    .dataframe tbody tr th {\n",
       "        vertical-align: top;\n",
       "    }\n",
       "\n",
       "    .dataframe thead th {\n",
       "        text-align: right;\n",
       "    }\n",
       "</style>\n",
       "<table border=\"1\" class=\"dataframe\">\n",
       "  <thead>\n",
       "    <tr style=\"text-align: right;\">\n",
       "      <th></th>\n",
       "      <th>Method</th>\n",
       "      <th>RMSE</th>\n",
       "      <th>MAPE</th>\n",
       "    </tr>\n",
       "  </thead>\n",
       "  <tbody>\n",
       "    <tr>\n",
       "      <th>IPG</th>\n",
       "      <td>Regression On Time</td>\n",
       "      <td>9.913628</td>\n",
       "      <td>0.083623</td>\n",
       "    </tr>\n",
       "  </tbody>\n",
       "</table>\n",
       "</div>"
      ],
      "text/plain": [
       "                 Method      RMSE      MAPE\n",
       "IPG  Regression On Time  9.913628  0.083623"
      ]
     },
     "execution_count": 30,
     "metadata": {},
     "output_type": "execute_result"
    }
   ],
   "source": [
    "fin=pd.DataFrame({'Method':['Regression On Time'],'RMSE':rmse_time,'MAPE':mape_time})\n",
    "fin"
   ]
  },
  {
   "cell_type": "markdown",
   "metadata": {},
   "source": [
    "### Regression On Seasonality"
   ]
  },
  {
   "cell_type": "code",
   "execution_count": 31,
   "metadata": {},
   "outputs": [],
   "source": [
    "m=['m1','m2','m3','m4','m5','m6','m7','m8','m9','m10','m11','m12']"
   ]
  },
  {
   "cell_type": "code",
   "execution_count": 32,
   "metadata": {},
   "outputs": [
    {
     "name": "stderr",
     "output_type": "stream",
     "text": [
      "C:\\Users\\user\\Anaconda3\\lib\\site-packages\\ipykernel_launcher.py:1: SettingWithCopyWarning: \n",
      "A value is trying to be set on a copy of a slice from a DataFrame.\n",
      "Try using .loc[row_indexer,col_indexer] = value instead\n",
      "\n",
      "See the caveats in the documentation: http://pandas.pydata.org/pandas-docs/stable/indexing.html#indexing-view-versus-copy\n",
      "  \"\"\"Entry point for launching an IPython kernel.\n"
     ]
    },
    {
     "data": {
      "text/html": [
       "<div>\n",
       "<style scoped>\n",
       "    .dataframe tbody tr th:only-of-type {\n",
       "        vertical-align: middle;\n",
       "    }\n",
       "\n",
       "    .dataframe tbody tr th {\n",
       "        vertical-align: top;\n",
       "    }\n",
       "\n",
       "    .dataframe thead th {\n",
       "        text-align: right;\n",
       "    }\n",
       "</style>\n",
       "<table border=\"1\" class=\"dataframe\">\n",
       "  <thead>\n",
       "    <tr style=\"text-align: right;\">\n",
       "      <th></th>\n",
       "      <th>IPG</th>\n",
       "      <th>Month</th>\n",
       "      <th>New_Month</th>\n",
       "    </tr>\n",
       "    <tr>\n",
       "      <th>DATE</th>\n",
       "      <th></th>\n",
       "      <th></th>\n",
       "      <th></th>\n",
       "    </tr>\n",
       "  </thead>\n",
       "  <tbody>\n",
       "    <tr>\n",
       "      <th>1939-01-01</th>\n",
       "      <td>3.3842</td>\n",
       "      <td>1</td>\n",
       "      <td>m1</td>\n",
       "    </tr>\n",
       "    <tr>\n",
       "      <th>1939-02-01</th>\n",
       "      <td>3.4100</td>\n",
       "      <td>2</td>\n",
       "      <td>m2</td>\n",
       "    </tr>\n",
       "    <tr>\n",
       "      <th>1939-03-01</th>\n",
       "      <td>3.4875</td>\n",
       "      <td>3</td>\n",
       "      <td>m3</td>\n",
       "    </tr>\n",
       "    <tr>\n",
       "      <th>1939-04-01</th>\n",
       "      <td>3.5133</td>\n",
       "      <td>4</td>\n",
       "      <td>m4</td>\n",
       "    </tr>\n",
       "    <tr>\n",
       "      <th>1939-05-01</th>\n",
       "      <td>3.5133</td>\n",
       "      <td>5</td>\n",
       "      <td>m5</td>\n",
       "    </tr>\n",
       "  </tbody>\n",
       "</table>\n",
       "</div>"
      ],
      "text/plain": [
       "               IPG  Month New_Month\n",
       "DATE                               \n",
       "1939-01-01  3.3842      1        m1\n",
       "1939-02-01  3.4100      2        m2\n",
       "1939-03-01  3.4875      3        m3\n",
       "1939-04-01  3.5133      4        m4\n",
       "1939-05-01  3.5133      5        m5"
      ]
     },
     "execution_count": 32,
     "metadata": {},
     "output_type": "execute_result"
    }
   ],
   "source": [
    "data1['New_Month']=m*80\n",
    "data1.head()"
   ]
  },
  {
   "cell_type": "code",
   "execution_count": 33,
   "metadata": {},
   "outputs": [
    {
     "data": {
      "text/html": [
       "<div>\n",
       "<style scoped>\n",
       "    .dataframe tbody tr th:only-of-type {\n",
       "        vertical-align: middle;\n",
       "    }\n",
       "\n",
       "    .dataframe tbody tr th {\n",
       "        vertical-align: top;\n",
       "    }\n",
       "\n",
       "    .dataframe thead th {\n",
       "        text-align: right;\n",
       "    }\n",
       "</style>\n",
       "<table border=\"1\" class=\"dataframe\">\n",
       "  <thead>\n",
       "    <tr style=\"text-align: right;\">\n",
       "      <th></th>\n",
       "      <th>IPG</th>\n",
       "      <th>Month</th>\n",
       "      <th>New_Month_m10</th>\n",
       "      <th>New_Month_m11</th>\n",
       "      <th>New_Month_m12</th>\n",
       "      <th>New_Month_m2</th>\n",
       "      <th>New_Month_m3</th>\n",
       "      <th>New_Month_m4</th>\n",
       "      <th>New_Month_m5</th>\n",
       "      <th>New_Month_m6</th>\n",
       "      <th>New_Month_m7</th>\n",
       "      <th>New_Month_m8</th>\n",
       "      <th>New_Month_m9</th>\n",
       "    </tr>\n",
       "    <tr>\n",
       "      <th>DATE</th>\n",
       "      <th></th>\n",
       "      <th></th>\n",
       "      <th></th>\n",
       "      <th></th>\n",
       "      <th></th>\n",
       "      <th></th>\n",
       "      <th></th>\n",
       "      <th></th>\n",
       "      <th></th>\n",
       "      <th></th>\n",
       "      <th></th>\n",
       "      <th></th>\n",
       "      <th></th>\n",
       "    </tr>\n",
       "  </thead>\n",
       "  <tbody>\n",
       "    <tr>\n",
       "      <th>1939-01-01</th>\n",
       "      <td>3.3842</td>\n",
       "      <td>1</td>\n",
       "      <td>0</td>\n",
       "      <td>0</td>\n",
       "      <td>0</td>\n",
       "      <td>0</td>\n",
       "      <td>0</td>\n",
       "      <td>0</td>\n",
       "      <td>0</td>\n",
       "      <td>0</td>\n",
       "      <td>0</td>\n",
       "      <td>0</td>\n",
       "      <td>0</td>\n",
       "    </tr>\n",
       "    <tr>\n",
       "      <th>1939-02-01</th>\n",
       "      <td>3.4100</td>\n",
       "      <td>2</td>\n",
       "      <td>0</td>\n",
       "      <td>0</td>\n",
       "      <td>0</td>\n",
       "      <td>1</td>\n",
       "      <td>0</td>\n",
       "      <td>0</td>\n",
       "      <td>0</td>\n",
       "      <td>0</td>\n",
       "      <td>0</td>\n",
       "      <td>0</td>\n",
       "      <td>0</td>\n",
       "    </tr>\n",
       "    <tr>\n",
       "      <th>1939-03-01</th>\n",
       "      <td>3.4875</td>\n",
       "      <td>3</td>\n",
       "      <td>0</td>\n",
       "      <td>0</td>\n",
       "      <td>0</td>\n",
       "      <td>0</td>\n",
       "      <td>1</td>\n",
       "      <td>0</td>\n",
       "      <td>0</td>\n",
       "      <td>0</td>\n",
       "      <td>0</td>\n",
       "      <td>0</td>\n",
       "      <td>0</td>\n",
       "    </tr>\n",
       "    <tr>\n",
       "      <th>1939-04-01</th>\n",
       "      <td>3.5133</td>\n",
       "      <td>4</td>\n",
       "      <td>0</td>\n",
       "      <td>0</td>\n",
       "      <td>0</td>\n",
       "      <td>0</td>\n",
       "      <td>0</td>\n",
       "      <td>1</td>\n",
       "      <td>0</td>\n",
       "      <td>0</td>\n",
       "      <td>0</td>\n",
       "      <td>0</td>\n",
       "      <td>0</td>\n",
       "    </tr>\n",
       "    <tr>\n",
       "      <th>1939-05-01</th>\n",
       "      <td>3.5133</td>\n",
       "      <td>5</td>\n",
       "      <td>0</td>\n",
       "      <td>0</td>\n",
       "      <td>0</td>\n",
       "      <td>0</td>\n",
       "      <td>0</td>\n",
       "      <td>0</td>\n",
       "      <td>1</td>\n",
       "      <td>0</td>\n",
       "      <td>0</td>\n",
       "      <td>0</td>\n",
       "      <td>0</td>\n",
       "    </tr>\n",
       "  </tbody>\n",
       "</table>\n",
       "</div>"
      ],
      "text/plain": [
       "               IPG  Month  New_Month_m10  New_Month_m11  New_Month_m12  \\\n",
       "DATE                                                                     \n",
       "1939-01-01  3.3842      1              0              0              0   \n",
       "1939-02-01  3.4100      2              0              0              0   \n",
       "1939-03-01  3.4875      3              0              0              0   \n",
       "1939-04-01  3.5133      4              0              0              0   \n",
       "1939-05-01  3.5133      5              0              0              0   \n",
       "\n",
       "            New_Month_m2  New_Month_m3  New_Month_m4  New_Month_m5  \\\n",
       "DATE                                                                 \n",
       "1939-01-01             0             0             0             0   \n",
       "1939-02-01             1             0             0             0   \n",
       "1939-03-01             0             1             0             0   \n",
       "1939-04-01             0             0             1             0   \n",
       "1939-05-01             0             0             0             1   \n",
       "\n",
       "            New_Month_m6  New_Month_m7  New_Month_m8  New_Month_m9  \n",
       "DATE                                                                \n",
       "1939-01-01             0             0             0             0  \n",
       "1939-02-01             0             0             0             0  \n",
       "1939-03-01             0             0             0             0  \n",
       "1939-04-01             0             0             0             0  \n",
       "1939-05-01             0             0             0             0  "
      ]
     },
     "execution_count": 33,
     "metadata": {},
     "output_type": "execute_result"
    }
   ],
   "source": [
    "data1=pd.get_dummies(data1,drop_first=True)\n",
    "data1.head()"
   ]
  },
  {
   "cell_type": "code",
   "execution_count": 34,
   "metadata": {},
   "outputs": [
    {
     "data": {
      "text/plain": [
       "(672, 13)"
      ]
     },
     "execution_count": 34,
     "metadata": {},
     "output_type": "execute_result"
    }
   ],
   "source": [
    "train,test=data1[:len(data1)-288],data1[len(data1)-288:]\n",
    "train.shape"
   ]
  },
  {
   "cell_type": "code",
   "execution_count": 35,
   "metadata": {},
   "outputs": [],
   "source": [
    "xtrain,ytrain=train.drop('IPG',axis=1),train[['IPG']]\n",
    "xtest,ytest=test.drop('IPG',axis=1),test[['IPG']]"
   ]
  },
  {
   "cell_type": "code",
   "execution_count": null,
   "metadata": {},
   "outputs": [],
   "source": []
  },
  {
   "cell_type": "code",
   "execution_count": 36,
   "metadata": {},
   "outputs": [],
   "source": [
    "lr=LinearRegression()\n",
    "ypred_sea=lr.fit(xtrain,ytrain).predict(xtest)"
   ]
  },
  {
   "cell_type": "code",
   "execution_count": 37,
   "metadata": {},
   "outputs": [
    {
     "data": {
      "text/plain": [
       "<matplotlib.legend.Legend at 0xbe58c88>"
      ]
     },
     "execution_count": 37,
     "metadata": {},
     "output_type": "execute_result"
    },
    {
     "data": {
      "image/png": "[encoded data removed]",
      "text/plain": [
       "<Figure size 432x288 with 1 Axes>"
      ]
     },
     "metadata": {
      "needs_background": "light"
     },
     "output_type": "display_data"
    }
   ],
   "source": [
    "plt.plot(np.arange(len(ytest)),ypred_sea,label='Predicted')\n",
    "plt.plot(np.arange(len(ytest)),ytest,label='Original')\n",
    "plt.legend()"
   ]
  },
  {
   "cell_type": "code",
   "execution_count": null,
   "metadata": {},
   "outputs": [],
   "source": []
  },
  {
   "cell_type": "code",
   "execution_count": 38,
   "metadata": {},
   "outputs": [
    {
     "data": {
      "text/plain": [
       "8.33502757661647"
      ]
     },
     "execution_count": 38,
     "metadata": {},
     "output_type": "execute_result"
    }
   ],
   "source": [
    "rmse_sea= np.sqrt(metrics.mean_squared_error(ytest,ypred_sea))\n",
    "rmse_sea"
   ]
  },
  {
   "cell_type": "code",
   "execution_count": 39,
   "metadata": {},
   "outputs": [
    {
     "data": {
      "text/plain": [
       "0.06850566990732508"
      ]
     },
     "execution_count": 39,
     "metadata": {},
     "output_type": "execute_result"
    }
   ],
   "source": [
    "mape_sea = np.mean(np.abs((ytest-ypred_sea)/ytest))\n",
    "mape_sea[0]"
   ]
  },
  {
   "cell_type": "code",
   "execution_count": 40,
   "metadata": {},
   "outputs": [
    {
     "data": {
      "text/html": [
       "<div>\n",
       "<style scoped>\n",
       "    .dataframe tbody tr th:only-of-type {\n",
       "        vertical-align: middle;\n",
       "    }\n",
       "\n",
       "    .dataframe tbody tr th {\n",
       "        vertical-align: top;\n",
       "    }\n",
       "\n",
       "    .dataframe thead th {\n",
       "        text-align: right;\n",
       "    }\n",
       "</style>\n",
       "<table border=\"1\" class=\"dataframe\">\n",
       "  <thead>\n",
       "    <tr style=\"text-align: right;\">\n",
       "      <th></th>\n",
       "      <th>Method</th>\n",
       "      <th>RMSE</th>\n",
       "      <th>MAPE</th>\n",
       "    </tr>\n",
       "  </thead>\n",
       "  <tbody>\n",
       "    <tr>\n",
       "      <th>IPG</th>\n",
       "      <td>Reg On Seasonality</td>\n",
       "      <td>8.335028</td>\n",
       "      <td>0.068506</td>\n",
       "    </tr>\n",
       "  </tbody>\n",
       "</table>\n",
       "</div>"
      ],
      "text/plain": [
       "                 Method      RMSE      MAPE\n",
       "IPG  Reg On Seasonality  8.335028  0.068506"
      ]
     },
     "execution_count": 40,
     "metadata": {},
     "output_type": "execute_result"
    }
   ],
   "source": [
    "x=pd.DataFrame({'Method':['Reg On Seasonality'],'RMSE':rmse_sea,'MAPE':mape_sea})\n",
    "x"
   ]
  },
  {
   "cell_type": "code",
   "execution_count": 41,
   "metadata": {},
   "outputs": [
    {
     "data": {
      "text/html": [
       "<div>\n",
       "<style scoped>\n",
       "    .dataframe tbody tr th:only-of-type {\n",
       "        vertical-align: middle;\n",
       "    }\n",
       "\n",
       "    .dataframe tbody tr th {\n",
       "        vertical-align: top;\n",
       "    }\n",
       "\n",
       "    .dataframe thead th {\n",
       "        text-align: right;\n",
       "    }\n",
       "</style>\n",
       "<table border=\"1\" class=\"dataframe\">\n",
       "  <thead>\n",
       "    <tr style=\"text-align: right;\">\n",
       "      <th></th>\n",
       "      <th>Method</th>\n",
       "      <th>RMSE</th>\n",
       "      <th>MAPE</th>\n",
       "    </tr>\n",
       "  </thead>\n",
       "  <tbody>\n",
       "    <tr>\n",
       "      <th>IPG</th>\n",
       "      <td>Regression On Time</td>\n",
       "      <td>9.913628</td>\n",
       "      <td>0.083623</td>\n",
       "    </tr>\n",
       "    <tr>\n",
       "      <th>IPG</th>\n",
       "      <td>Reg On Seasonality</td>\n",
       "      <td>8.335028</td>\n",
       "      <td>0.068506</td>\n",
       "    </tr>\n",
       "  </tbody>\n",
       "</table>\n",
       "</div>"
      ],
      "text/plain": [
       "                 Method      RMSE      MAPE\n",
       "IPG  Regression On Time  9.913628  0.083623\n",
       "IPG  Reg On Seasonality  8.335028  0.068506"
      ]
     },
     "execution_count": 41,
     "metadata": {},
     "output_type": "execute_result"
    }
   ],
   "source": [
    "fin=pd.concat([fin,x],axis=0)\n",
    "fin"
   ]
  },
  {
   "cell_type": "markdown",
   "metadata": {},
   "source": [
    "### Autoregression"
   ]
  },
  {
   "cell_type": "code",
   "execution_count": 42,
   "metadata": {},
   "outputs": [
    {
     "data": {
      "text/plain": [
       "(960, 1)"
      ]
     },
     "execution_count": 42,
     "metadata": {},
     "output_type": "execute_result"
    }
   ],
   "source": [
    "data=data[:'2018-12-01']\n",
    "data.shape"
   ]
  },
  {
   "cell_type": "code",
   "execution_count": 43,
   "metadata": {},
   "outputs": [],
   "source": [
    "import pandas as pd\n",
    "from pandas.plotting import autocorrelation_plot\n",
    "\n",
    "import numpy as np\n",
    "\n",
    "from statsmodels.graphics.tsaplots import plot_acf\n",
    "from pandas.plotting import lag_plot\n",
    "\n",
    "from statsmodels.tsa.ar_model import AR"
   ]
  },
  {
   "cell_type": "code",
   "execution_count": 44,
   "metadata": {},
   "outputs": [
    {
     "data": {
      "text/plain": [
       "(672, 1)"
      ]
     },
     "execution_count": 44,
     "metadata": {},
     "output_type": "execute_result"
    }
   ],
   "source": [
    "train,test=data[:len(data)-288],data[len(data)-288:]\n",
    "train.shape"
   ]
  },
  {
   "cell_type": "code",
   "execution_count": 45,
   "metadata": {},
   "outputs": [
    {
     "name": "stderr",
     "output_type": "stream",
     "text": [
      "C:\\Users\\user\\Anaconda3\\lib\\site-packages\\statsmodels\\tsa\\base\\tsa_model.py:171: ValueWarning: No frequency information was provided, so inferred frequency MS will be used.\n",
      "  % freq, ValueWarning)\n"
     ]
    }
   ],
   "source": [
    "# train autoregression model\n",
    "mod=AR(train)\n",
    "mod_fit = mod.fit()"
   ]
  },
  {
   "cell_type": "code",
   "execution_count": 46,
   "metadata": {},
   "outputs": [
    {
     "name": "stdout",
     "output_type": "stream",
     "text": [
      "Lag: 19\n",
      "Coeffs: const      0.237898\n",
      "L1.IPG     0.832518\n",
      "L2.IPG    -0.196713\n",
      "L3.IPG     0.058386\n",
      "L4.IPG     0.015135\n",
      "L5.IPG     0.131684\n",
      "L6.IPG    -0.097258\n",
      "L7.IPG     0.057789\n",
      "L8.IPG    -0.078933\n",
      "L9.IPG     0.048400\n",
      "L10.IPG    0.016235\n",
      "L11.IPG    0.085407\n",
      "L12.IPG    0.626574\n",
      "L13.IPG   -0.364074\n",
      "L14.IPG   -0.084767\n",
      "L15.IPG    0.010397\n",
      "L16.IPG   -0.056677\n",
      "L17.IPG   -0.036878\n",
      "L18.IPG    0.068900\n",
      "L19.IPG   -0.033496\n",
      "dtype: float64\n"
     ]
    }
   ],
   "source": [
    "# how many lags considered statistically, what are their beta vals\n",
    "\n",
    "print('Lag: %s' %mod_fit.k_ar)\n",
    "print('Coeffs: %s' %mod_fit.params)\n",
    "\n",
    "# mod_fit.l_ar gives us the threshold lag at which the lags start coming inside the confidence interval"
   ]
  },
  {
   "cell_type": "code",
   "execution_count": 47,
   "metadata": {},
   "outputs": [],
   "source": [
    "# predictions\n",
    "\n",
    "pred=mod_fit.predict(start=len(train),end=len(train)+len(test)-1,dynamic=False)"
   ]
  },
  {
   "cell_type": "code",
   "execution_count": 48,
   "metadata": {
    "scrolled": true
   },
   "outputs": [
    {
     "data": {
      "text/plain": [
       "<matplotlib.legend.Legend at 0xc483a58>"
      ]
     },
     "execution_count": 48,
     "metadata": {},
     "output_type": "execute_result"
    },
    {
     "data": {
      "image/png": "[encoded data removed]",
      "text/plain": [
       "<Figure size 432x288 with 1 Axes>"
      ]
     },
     "metadata": {
      "needs_background": "light"
     },
     "output_type": "display_data"
    }
   ],
   "source": [
    "plt.plot(pred,label='Prediction')\n",
    "plt.plot(test,label='Original')\n",
    "plt.legend()"
   ]
  },
  {
   "cell_type": "code",
   "execution_count": 49,
   "metadata": {},
   "outputs": [
    {
     "data": {
      "text/plain": [
       "12.41481019861781"
      ]
     },
     "execution_count": 49,
     "metadata": {},
     "output_type": "execute_result"
    }
   ],
   "source": [
    "rmse_ar=np.sqrt(metrics.mean_squared_error(test,pred))\n",
    "rmse_ar"
   ]
  },
  {
   "cell_type": "code",
   "execution_count": 50,
   "metadata": {},
   "outputs": [
    {
     "data": {
      "text/html": [
       "<div>\n",
       "<style scoped>\n",
       "    .dataframe tbody tr th:only-of-type {\n",
       "        vertical-align: middle;\n",
       "    }\n",
       "\n",
       "    .dataframe tbody tr th {\n",
       "        vertical-align: top;\n",
       "    }\n",
       "\n",
       "    .dataframe thead th {\n",
       "        text-align: right;\n",
       "    }\n",
       "</style>\n",
       "<table border=\"1\" class=\"dataframe\">\n",
       "  <thead>\n",
       "    <tr style=\"text-align: right;\">\n",
       "      <th></th>\n",
       "      <th>IPG</th>\n",
       "    </tr>\n",
       "    <tr>\n",
       "      <th>DATE</th>\n",
       "      <th></th>\n",
       "    </tr>\n",
       "  </thead>\n",
       "  <tbody>\n",
       "    <tr>\n",
       "      <th>1995-01-01</th>\n",
       "      <td>92.7412</td>\n",
       "    </tr>\n",
       "    <tr>\n",
       "      <th>1995-02-01</th>\n",
       "      <td>87.6670</td>\n",
       "    </tr>\n",
       "    <tr>\n",
       "      <th>1995-03-01</th>\n",
       "      <td>81.5205</td>\n",
       "    </tr>\n",
       "    <tr>\n",
       "      <th>1995-04-01</th>\n",
       "      <td>74.0457</td>\n",
       "    </tr>\n",
       "    <tr>\n",
       "      <th>1995-05-01</th>\n",
       "      <td>73.5003</td>\n",
       "    </tr>\n",
       "    <tr>\n",
       "      <th>1995-06-01</th>\n",
       "      <td>78.5503</td>\n",
       "    </tr>\n",
       "    <tr>\n",
       "      <th>1995-07-01</th>\n",
       "      <td>86.2425</td>\n",
       "    </tr>\n",
       "    <tr>\n",
       "      <th>1995-08-01</th>\n",
       "      <td>89.8063</td>\n",
       "    </tr>\n",
       "    <tr>\n",
       "      <th>1995-09-01</th>\n",
       "      <td>78.7442</td>\n",
       "    </tr>\n",
       "    <tr>\n",
       "      <th>1995-10-01</th>\n",
       "      <td>73.9353</td>\n",
       "    </tr>\n",
       "    <tr>\n",
       "      <th>1995-11-01</th>\n",
       "      <td>79.8903</td>\n",
       "    </tr>\n",
       "    <tr>\n",
       "      <th>1995-12-01</th>\n",
       "      <td>91.0933</td>\n",
       "    </tr>\n",
       "    <tr>\n",
       "      <th>1996-01-01</th>\n",
       "      <td>99.2688</td>\n",
       "    </tr>\n",
       "    <tr>\n",
       "      <th>1996-02-01</th>\n",
       "      <td>93.1691</td>\n",
       "    </tr>\n",
       "    <tr>\n",
       "      <th>1996-03-01</th>\n",
       "      <td>87.2075</td>\n",
       "    </tr>\n",
       "    <tr>\n",
       "      <th>1996-04-01</th>\n",
       "      <td>77.4715</td>\n",
       "    </tr>\n",
       "    <tr>\n",
       "      <th>1996-05-01</th>\n",
       "      <td>76.9337</td>\n",
       "    </tr>\n",
       "    <tr>\n",
       "      <th>1996-06-01</th>\n",
       "      <td>82.1958</td>\n",
       "    </tr>\n",
       "    <tr>\n",
       "      <th>1996-07-01</th>\n",
       "      <td>86.2321</td>\n",
       "    </tr>\n",
       "    <tr>\n",
       "      <th>1996-08-01</th>\n",
       "      <td>86.8240</td>\n",
       "    </tr>\n",
       "    <tr>\n",
       "      <th>1996-09-01</th>\n",
       "      <td>79.4425</td>\n",
       "    </tr>\n",
       "    <tr>\n",
       "      <th>1996-10-01</th>\n",
       "      <td>74.9110</td>\n",
       "    </tr>\n",
       "    <tr>\n",
       "      <th>1996-11-01</th>\n",
       "      <td>81.3000</td>\n",
       "    </tr>\n",
       "    <tr>\n",
       "      <th>1996-12-01</th>\n",
       "      <td>90.7530</td>\n",
       "    </tr>\n",
       "    <tr>\n",
       "      <th>1997-01-01</th>\n",
       "      <td>98.7482</td>\n",
       "    </tr>\n",
       "    <tr>\n",
       "      <th>1997-02-01</th>\n",
       "      <td>90.0486</td>\n",
       "    </tr>\n",
       "    <tr>\n",
       "      <th>1997-03-01</th>\n",
       "      <td>83.2671</td>\n",
       "    </tr>\n",
       "    <tr>\n",
       "      <th>1997-04-01</th>\n",
       "      <td>76.3793</td>\n",
       "    </tr>\n",
       "    <tr>\n",
       "      <th>1997-05-01</th>\n",
       "      <td>74.0777</td>\n",
       "    </tr>\n",
       "    <tr>\n",
       "      <th>1997-06-01</th>\n",
       "      <td>80.0138</td>\n",
       "    </tr>\n",
       "    <tr>\n",
       "      <th>...</th>\n",
       "      <td>...</td>\n",
       "    </tr>\n",
       "    <tr>\n",
       "      <th>2016-07-01</th>\n",
       "      <td>114.1946</td>\n",
       "    </tr>\n",
       "    <tr>\n",
       "      <th>2016-08-01</th>\n",
       "      <td>115.5015</td>\n",
       "    </tr>\n",
       "    <tr>\n",
       "      <th>2016-09-01</th>\n",
       "      <td>102.2398</td>\n",
       "    </tr>\n",
       "    <tr>\n",
       "      <th>2016-10-01</th>\n",
       "      <td>90.8499</td>\n",
       "    </tr>\n",
       "    <tr>\n",
       "      <th>2016-11-01</th>\n",
       "      <td>92.6032</td>\n",
       "    </tr>\n",
       "    <tr>\n",
       "      <th>2016-12-01</th>\n",
       "      <td>114.0219</td>\n",
       "    </tr>\n",
       "    <tr>\n",
       "      <th>2017-01-01</th>\n",
       "      <td>116.4746</td>\n",
       "    </tr>\n",
       "    <tr>\n",
       "      <th>2017-02-01</th>\n",
       "      <td>99.5393</td>\n",
       "    </tr>\n",
       "    <tr>\n",
       "      <th>2017-03-01</th>\n",
       "      <td>101.0063</td>\n",
       "    </tr>\n",
       "    <tr>\n",
       "      <th>2017-04-01</th>\n",
       "      <td>87.0374</td>\n",
       "    </tr>\n",
       "    <tr>\n",
       "      <th>2017-05-01</th>\n",
       "      <td>90.3591</td>\n",
       "    </tr>\n",
       "    <tr>\n",
       "      <th>2017-06-01</th>\n",
       "      <td>100.4412</td>\n",
       "    </tr>\n",
       "    <tr>\n",
       "      <th>2017-07-01</th>\n",
       "      <td>111.2371</td>\n",
       "    </tr>\n",
       "    <tr>\n",
       "      <th>2017-08-01</th>\n",
       "      <td>107.7583</td>\n",
       "    </tr>\n",
       "    <tr>\n",
       "      <th>2017-09-01</th>\n",
       "      <td>97.0813</td>\n",
       "    </tr>\n",
       "    <tr>\n",
       "      <th>2017-10-01</th>\n",
       "      <td>92.3020</td>\n",
       "    </tr>\n",
       "    <tr>\n",
       "      <th>2017-11-01</th>\n",
       "      <td>97.7214</td>\n",
       "    </tr>\n",
       "    <tr>\n",
       "      <th>2017-12-01</th>\n",
       "      <td>117.2377</td>\n",
       "    </tr>\n",
       "    <tr>\n",
       "      <th>2018-01-01</th>\n",
       "      <td>128.9071</td>\n",
       "    </tr>\n",
       "    <tr>\n",
       "      <th>2018-02-01</th>\n",
       "      <td>107.6711</td>\n",
       "    </tr>\n",
       "    <tr>\n",
       "      <th>2018-03-01</th>\n",
       "      <td>104.5716</td>\n",
       "    </tr>\n",
       "    <tr>\n",
       "      <th>2018-04-01</th>\n",
       "      <td>93.4491</td>\n",
       "    </tr>\n",
       "    <tr>\n",
       "      <th>2018-05-01</th>\n",
       "      <td>93.2405</td>\n",
       "    </tr>\n",
       "    <tr>\n",
       "      <th>2018-06-01</th>\n",
       "      <td>103.3083</td>\n",
       "    </tr>\n",
       "    <tr>\n",
       "      <th>2018-07-01</th>\n",
       "      <td>113.3178</td>\n",
       "    </tr>\n",
       "    <tr>\n",
       "      <th>2018-08-01</th>\n",
       "      <td>113.2758</td>\n",
       "    </tr>\n",
       "    <tr>\n",
       "      <th>2018-09-01</th>\n",
       "      <td>101.5656</td>\n",
       "    </tr>\n",
       "    <tr>\n",
       "      <th>2018-10-01</th>\n",
       "      <td>95.3203</td>\n",
       "    </tr>\n",
       "    <tr>\n",
       "      <th>2018-11-01</th>\n",
       "      <td>103.5750</td>\n",
       "    </tr>\n",
       "    <tr>\n",
       "      <th>2018-12-01</th>\n",
       "      <td>112.9498</td>\n",
       "    </tr>\n",
       "  </tbody>\n",
       "</table>\n",
       "<p>288 rows × 1 columns</p>\n",
       "</div>"
      ],
      "text/plain": [
       "                 IPG\n",
       "DATE                \n",
       "1995-01-01   92.7412\n",
       "1995-02-01   87.6670\n",
       "1995-03-01   81.5205\n",
       "1995-04-01   74.0457\n",
       "1995-05-01   73.5003\n",
       "1995-06-01   78.5503\n",
       "1995-07-01   86.2425\n",
       "1995-08-01   89.8063\n",
       "1995-09-01   78.7442\n",
       "1995-10-01   73.9353\n",
       "1995-11-01   79.8903\n",
       "1995-12-01   91.0933\n",
       "1996-01-01   99.2688\n",
       "1996-02-01   93.1691\n",
       "1996-03-01   87.2075\n",
       "1996-04-01   77.4715\n",
       "1996-05-01   76.9337\n",
       "1996-06-01   82.1958\n",
       "1996-07-01   86.2321\n",
       "1996-08-01   86.8240\n",
       "1996-09-01   79.4425\n",
       "1996-10-01   74.9110\n",
       "1996-11-01   81.3000\n",
       "1996-12-01   90.7530\n",
       "1997-01-01   98.7482\n",
       "1997-02-01   90.0486\n",
       "1997-03-01   83.2671\n",
       "1997-04-01   76.3793\n",
       "1997-05-01   74.0777\n",
       "1997-06-01   80.0138\n",
       "...              ...\n",
       "2016-07-01  114.1946\n",
       "2016-08-01  115.5015\n",
       "2016-09-01  102.2398\n",
       "2016-10-01   90.8499\n",
       "2016-11-01   92.6032\n",
       "2016-12-01  114.0219\n",
       "2017-01-01  116.4746\n",
       "2017-02-01   99.5393\n",
       "2017-03-01  101.0063\n",
       "2017-04-01   87.0374\n",
       "2017-05-01   90.3591\n",
       "2017-06-01  100.4412\n",
       "2017-07-01  111.2371\n",
       "2017-08-01  107.7583\n",
       "2017-09-01   97.0813\n",
       "2017-10-01   92.3020\n",
       "2017-11-01   97.7214\n",
       "2017-12-01  117.2377\n",
       "2018-01-01  128.9071\n",
       "2018-02-01  107.6711\n",
       "2018-03-01  104.5716\n",
       "2018-04-01   93.4491\n",
       "2018-05-01   93.2405\n",
       "2018-06-01  103.3083\n",
       "2018-07-01  113.3178\n",
       "2018-08-01  113.2758\n",
       "2018-09-01  101.5656\n",
       "2018-10-01   95.3203\n",
       "2018-11-01  103.5750\n",
       "2018-12-01  112.9498\n",
       "\n",
       "[288 rows x 1 columns]"
      ]
     },
     "execution_count": 50,
     "metadata": {},
     "output_type": "execute_result"
    }
   ],
   "source": [
    "x=np.asarray(test)\n",
    "test"
   ]
  },
  {
   "cell_type": "code",
   "execution_count": 51,
   "metadata": {},
   "outputs": [
    {
     "data": {
      "text/plain": [
       "0.08779781218473375"
      ]
     },
     "execution_count": 51,
     "metadata": {},
     "output_type": "execute_result"
    }
   ],
   "source": [
    "mape_ar=np.mean(np.abs((test['IPG']-pred)/test['IPG']))\n",
    "mape_ar"
   ]
  },
  {
   "cell_type": "code",
   "execution_count": 52,
   "metadata": {},
   "outputs": [
    {
     "data": {
      "text/html": [
       "<div>\n",
       "<style scoped>\n",
       "    .dataframe tbody tr th:only-of-type {\n",
       "        vertical-align: middle;\n",
       "    }\n",
       "\n",
       "    .dataframe tbody tr th {\n",
       "        vertical-align: top;\n",
       "    }\n",
       "\n",
       "    .dataframe thead th {\n",
       "        text-align: right;\n",
       "    }\n",
       "</style>\n",
       "<table border=\"1\" class=\"dataframe\">\n",
       "  <thead>\n",
       "    <tr style=\"text-align: right;\">\n",
       "      <th></th>\n",
       "      <th>IPG</th>\n",
       "    </tr>\n",
       "    <tr>\n",
       "      <th>DATE</th>\n",
       "      <th></th>\n",
       "    </tr>\n",
       "  </thead>\n",
       "  <tbody>\n",
       "    <tr>\n",
       "      <th>1995-01-01</th>\n",
       "      <td>92.7412</td>\n",
       "    </tr>\n",
       "    <tr>\n",
       "      <th>1995-02-01</th>\n",
       "      <td>87.6670</td>\n",
       "    </tr>\n",
       "    <tr>\n",
       "      <th>1995-03-01</th>\n",
       "      <td>81.5205</td>\n",
       "    </tr>\n",
       "    <tr>\n",
       "      <th>1995-04-01</th>\n",
       "      <td>74.0457</td>\n",
       "    </tr>\n",
       "    <tr>\n",
       "      <th>1995-05-01</th>\n",
       "      <td>73.5003</td>\n",
       "    </tr>\n",
       "    <tr>\n",
       "      <th>1995-06-01</th>\n",
       "      <td>78.5503</td>\n",
       "    </tr>\n",
       "    <tr>\n",
       "      <th>1995-07-01</th>\n",
       "      <td>86.2425</td>\n",
       "    </tr>\n",
       "    <tr>\n",
       "      <th>1995-08-01</th>\n",
       "      <td>89.8063</td>\n",
       "    </tr>\n",
       "    <tr>\n",
       "      <th>1995-09-01</th>\n",
       "      <td>78.7442</td>\n",
       "    </tr>\n",
       "    <tr>\n",
       "      <th>1995-10-01</th>\n",
       "      <td>73.9353</td>\n",
       "    </tr>\n",
       "    <tr>\n",
       "      <th>1995-11-01</th>\n",
       "      <td>79.8903</td>\n",
       "    </tr>\n",
       "    <tr>\n",
       "      <th>1995-12-01</th>\n",
       "      <td>91.0933</td>\n",
       "    </tr>\n",
       "    <tr>\n",
       "      <th>1996-01-01</th>\n",
       "      <td>99.2688</td>\n",
       "    </tr>\n",
       "    <tr>\n",
       "      <th>1996-02-01</th>\n",
       "      <td>93.1691</td>\n",
       "    </tr>\n",
       "    <tr>\n",
       "      <th>1996-03-01</th>\n",
       "      <td>87.2075</td>\n",
       "    </tr>\n",
       "    <tr>\n",
       "      <th>1996-04-01</th>\n",
       "      <td>77.4715</td>\n",
       "    </tr>\n",
       "    <tr>\n",
       "      <th>1996-05-01</th>\n",
       "      <td>76.9337</td>\n",
       "    </tr>\n",
       "    <tr>\n",
       "      <th>1996-06-01</th>\n",
       "      <td>82.1958</td>\n",
       "    </tr>\n",
       "    <tr>\n",
       "      <th>1996-07-01</th>\n",
       "      <td>86.2321</td>\n",
       "    </tr>\n",
       "    <tr>\n",
       "      <th>1996-08-01</th>\n",
       "      <td>86.8240</td>\n",
       "    </tr>\n",
       "    <tr>\n",
       "      <th>1996-09-01</th>\n",
       "      <td>79.4425</td>\n",
       "    </tr>\n",
       "    <tr>\n",
       "      <th>1996-10-01</th>\n",
       "      <td>74.9110</td>\n",
       "    </tr>\n",
       "    <tr>\n",
       "      <th>1996-11-01</th>\n",
       "      <td>81.3000</td>\n",
       "    </tr>\n",
       "    <tr>\n",
       "      <th>1996-12-01</th>\n",
       "      <td>90.7530</td>\n",
       "    </tr>\n",
       "    <tr>\n",
       "      <th>1997-01-01</th>\n",
       "      <td>98.7482</td>\n",
       "    </tr>\n",
       "    <tr>\n",
       "      <th>1997-02-01</th>\n",
       "      <td>90.0486</td>\n",
       "    </tr>\n",
       "    <tr>\n",
       "      <th>1997-03-01</th>\n",
       "      <td>83.2671</td>\n",
       "    </tr>\n",
       "    <tr>\n",
       "      <th>1997-04-01</th>\n",
       "      <td>76.3793</td>\n",
       "    </tr>\n",
       "    <tr>\n",
       "      <th>1997-05-01</th>\n",
       "      <td>74.0777</td>\n",
       "    </tr>\n",
       "    <tr>\n",
       "      <th>1997-06-01</th>\n",
       "      <td>80.0138</td>\n",
       "    </tr>\n",
       "    <tr>\n",
       "      <th>...</th>\n",
       "      <td>...</td>\n",
       "    </tr>\n",
       "    <tr>\n",
       "      <th>2016-07-01</th>\n",
       "      <td>114.1946</td>\n",
       "    </tr>\n",
       "    <tr>\n",
       "      <th>2016-08-01</th>\n",
       "      <td>115.5015</td>\n",
       "    </tr>\n",
       "    <tr>\n",
       "      <th>2016-09-01</th>\n",
       "      <td>102.2398</td>\n",
       "    </tr>\n",
       "    <tr>\n",
       "      <th>2016-10-01</th>\n",
       "      <td>90.8499</td>\n",
       "    </tr>\n",
       "    <tr>\n",
       "      <th>2016-11-01</th>\n",
       "      <td>92.6032</td>\n",
       "    </tr>\n",
       "    <tr>\n",
       "      <th>2016-12-01</th>\n",
       "      <td>114.0219</td>\n",
       "    </tr>\n",
       "    <tr>\n",
       "      <th>2017-01-01</th>\n",
       "      <td>116.4746</td>\n",
       "    </tr>\n",
       "    <tr>\n",
       "      <th>2017-02-01</th>\n",
       "      <td>99.5393</td>\n",
       "    </tr>\n",
       "    <tr>\n",
       "      <th>2017-03-01</th>\n",
       "      <td>101.0063</td>\n",
       "    </tr>\n",
       "    <tr>\n",
       "      <th>2017-04-01</th>\n",
       "      <td>87.0374</td>\n",
       "    </tr>\n",
       "    <tr>\n",
       "      <th>2017-05-01</th>\n",
       "      <td>90.3591</td>\n",
       "    </tr>\n",
       "    <tr>\n",
       "      <th>2017-06-01</th>\n",
       "      <td>100.4412</td>\n",
       "    </tr>\n",
       "    <tr>\n",
       "      <th>2017-07-01</th>\n",
       "      <td>111.2371</td>\n",
       "    </tr>\n",
       "    <tr>\n",
       "      <th>2017-08-01</th>\n",
       "      <td>107.7583</td>\n",
       "    </tr>\n",
       "    <tr>\n",
       "      <th>2017-09-01</th>\n",
       "      <td>97.0813</td>\n",
       "    </tr>\n",
       "    <tr>\n",
       "      <th>2017-10-01</th>\n",
       "      <td>92.3020</td>\n",
       "    </tr>\n",
       "    <tr>\n",
       "      <th>2017-11-01</th>\n",
       "      <td>97.7214</td>\n",
       "    </tr>\n",
       "    <tr>\n",
       "      <th>2017-12-01</th>\n",
       "      <td>117.2377</td>\n",
       "    </tr>\n",
       "    <tr>\n",
       "      <th>2018-01-01</th>\n",
       "      <td>128.9071</td>\n",
       "    </tr>\n",
       "    <tr>\n",
       "      <th>2018-02-01</th>\n",
       "      <td>107.6711</td>\n",
       "    </tr>\n",
       "    <tr>\n",
       "      <th>2018-03-01</th>\n",
       "      <td>104.5716</td>\n",
       "    </tr>\n",
       "    <tr>\n",
       "      <th>2018-04-01</th>\n",
       "      <td>93.4491</td>\n",
       "    </tr>\n",
       "    <tr>\n",
       "      <th>2018-05-01</th>\n",
       "      <td>93.2405</td>\n",
       "    </tr>\n",
       "    <tr>\n",
       "      <th>2018-06-01</th>\n",
       "      <td>103.3083</td>\n",
       "    </tr>\n",
       "    <tr>\n",
       "      <th>2018-07-01</th>\n",
       "      <td>113.3178</td>\n",
       "    </tr>\n",
       "    <tr>\n",
       "      <th>2018-08-01</th>\n",
       "      <td>113.2758</td>\n",
       "    </tr>\n",
       "    <tr>\n",
       "      <th>2018-09-01</th>\n",
       "      <td>101.5656</td>\n",
       "    </tr>\n",
       "    <tr>\n",
       "      <th>2018-10-01</th>\n",
       "      <td>95.3203</td>\n",
       "    </tr>\n",
       "    <tr>\n",
       "      <th>2018-11-01</th>\n",
       "      <td>103.5750</td>\n",
       "    </tr>\n",
       "    <tr>\n",
       "      <th>2018-12-01</th>\n",
       "      <td>112.9498</td>\n",
       "    </tr>\n",
       "  </tbody>\n",
       "</table>\n",
       "<p>288 rows × 1 columns</p>\n",
       "</div>"
      ],
      "text/plain": [
       "                 IPG\n",
       "DATE                \n",
       "1995-01-01   92.7412\n",
       "1995-02-01   87.6670\n",
       "1995-03-01   81.5205\n",
       "1995-04-01   74.0457\n",
       "1995-05-01   73.5003\n",
       "1995-06-01   78.5503\n",
       "1995-07-01   86.2425\n",
       "1995-08-01   89.8063\n",
       "1995-09-01   78.7442\n",
       "1995-10-01   73.9353\n",
       "1995-11-01   79.8903\n",
       "1995-12-01   91.0933\n",
       "1996-01-01   99.2688\n",
       "1996-02-01   93.1691\n",
       "1996-03-01   87.2075\n",
       "1996-04-01   77.4715\n",
       "1996-05-01   76.9337\n",
       "1996-06-01   82.1958\n",
       "1996-07-01   86.2321\n",
       "1996-08-01   86.8240\n",
       "1996-09-01   79.4425\n",
       "1996-10-01   74.9110\n",
       "1996-11-01   81.3000\n",
       "1996-12-01   90.7530\n",
       "1997-01-01   98.7482\n",
       "1997-02-01   90.0486\n",
       "1997-03-01   83.2671\n",
       "1997-04-01   76.3793\n",
       "1997-05-01   74.0777\n",
       "1997-06-01   80.0138\n",
       "...              ...\n",
       "2016-07-01  114.1946\n",
       "2016-08-01  115.5015\n",
       "2016-09-01  102.2398\n",
       "2016-10-01   90.8499\n",
       "2016-11-01   92.6032\n",
       "2016-12-01  114.0219\n",
       "2017-01-01  116.4746\n",
       "2017-02-01   99.5393\n",
       "2017-03-01  101.0063\n",
       "2017-04-01   87.0374\n",
       "2017-05-01   90.3591\n",
       "2017-06-01  100.4412\n",
       "2017-07-01  111.2371\n",
       "2017-08-01  107.7583\n",
       "2017-09-01   97.0813\n",
       "2017-10-01   92.3020\n",
       "2017-11-01   97.7214\n",
       "2017-12-01  117.2377\n",
       "2018-01-01  128.9071\n",
       "2018-02-01  107.6711\n",
       "2018-03-01  104.5716\n",
       "2018-04-01   93.4491\n",
       "2018-05-01   93.2405\n",
       "2018-06-01  103.3083\n",
       "2018-07-01  113.3178\n",
       "2018-08-01  113.2758\n",
       "2018-09-01  101.5656\n",
       "2018-10-01   95.3203\n",
       "2018-11-01  103.5750\n",
       "2018-12-01  112.9498\n",
       "\n",
       "[288 rows x 1 columns]"
      ]
     },
     "execution_count": 52,
     "metadata": {},
     "output_type": "execute_result"
    }
   ],
   "source": [
    "test"
   ]
  },
  {
   "cell_type": "code",
   "execution_count": 53,
   "metadata": {},
   "outputs": [
    {
     "data": {
      "text/html": [
       "<div>\n",
       "<style scoped>\n",
       "    .dataframe tbody tr th:only-of-type {\n",
       "        vertical-align: middle;\n",
       "    }\n",
       "\n",
       "    .dataframe tbody tr th {\n",
       "        vertical-align: top;\n",
       "    }\n",
       "\n",
       "    .dataframe thead th {\n",
       "        text-align: right;\n",
       "    }\n",
       "</style>\n",
       "<table border=\"1\" class=\"dataframe\">\n",
       "  <thead>\n",
       "    <tr style=\"text-align: right;\">\n",
       "      <th></th>\n",
       "      <th>Method</th>\n",
       "      <th>RMSE</th>\n",
       "      <th>MAPE</th>\n",
       "    </tr>\n",
       "  </thead>\n",
       "  <tbody>\n",
       "    <tr>\n",
       "      <th>0</th>\n",
       "      <td>AR</td>\n",
       "      <td>12.41481</td>\n",
       "      <td>0.087798</td>\n",
       "    </tr>\n",
       "  </tbody>\n",
       "</table>\n",
       "</div>"
      ],
      "text/plain": [
       "  Method      RMSE      MAPE\n",
       "0     AR  12.41481  0.087798"
      ]
     },
     "execution_count": 53,
     "metadata": {},
     "output_type": "execute_result"
    }
   ],
   "source": [
    "x=pd.DataFrame({'Method':['AR'],'RMSE':rmse_ar,'MAPE':mape_ar})\n",
    "x"
   ]
  },
  {
   "cell_type": "code",
   "execution_count": 54,
   "metadata": {},
   "outputs": [
    {
     "data": {
      "text/html": [
       "<div>\n",
       "<style scoped>\n",
       "    .dataframe tbody tr th:only-of-type {\n",
       "        vertical-align: middle;\n",
       "    }\n",
       "\n",
       "    .dataframe tbody tr th {\n",
       "        vertical-align: top;\n",
       "    }\n",
       "\n",
       "    .dataframe thead th {\n",
       "        text-align: right;\n",
       "    }\n",
       "</style>\n",
       "<table border=\"1\" class=\"dataframe\">\n",
       "  <thead>\n",
       "    <tr style=\"text-align: right;\">\n",
       "      <th></th>\n",
       "      <th>Method</th>\n",
       "      <th>RMSE</th>\n",
       "      <th>MAPE</th>\n",
       "    </tr>\n",
       "  </thead>\n",
       "  <tbody>\n",
       "    <tr>\n",
       "      <th>IPG</th>\n",
       "      <td>Regression On Time</td>\n",
       "      <td>9.913628</td>\n",
       "      <td>0.083623</td>\n",
       "    </tr>\n",
       "    <tr>\n",
       "      <th>IPG</th>\n",
       "      <td>Reg On Seasonality</td>\n",
       "      <td>8.335028</td>\n",
       "      <td>0.068506</td>\n",
       "    </tr>\n",
       "    <tr>\n",
       "      <th>0</th>\n",
       "      <td>AR</td>\n",
       "      <td>12.414810</td>\n",
       "      <td>0.087798</td>\n",
       "    </tr>\n",
       "  </tbody>\n",
       "</table>\n",
       "</div>"
      ],
      "text/plain": [
       "                 Method       RMSE      MAPE\n",
       "IPG  Regression On Time   9.913628  0.083623\n",
       "IPG  Reg On Seasonality   8.335028  0.068506\n",
       "0                    AR  12.414810  0.087798"
      ]
     },
     "execution_count": 54,
     "metadata": {},
     "output_type": "execute_result"
    }
   ],
   "source": [
    "fin=pd.concat([fin,x],axis=0)\n",
    "fin"
   ]
  },
  {
   "cell_type": "markdown",
   "metadata": {},
   "source": [
    "### ARIMA"
   ]
  },
  {
   "cell_type": "code",
   "execution_count": 55,
   "metadata": {},
   "outputs": [],
   "source": [
    "from statsmodels.tsa.arima_model import ARIMA"
   ]
  },
  {
   "cell_type": "code",
   "execution_count": 56,
   "metadata": {},
   "outputs": [
    {
     "data": {
      "text/plain": [
       "[(0, 0, 0),\n",
       " (0, 0, 1),\n",
       " (0, 0, 2),\n",
       " (0, 0, 3),\n",
       " (0, 0, 4),\n",
       " (0, 1, 0),\n",
       " (0, 1, 1),\n",
       " (0, 1, 2),\n",
       " (0, 1, 3),\n",
       " (0, 1, 4),\n",
       " (0, 2, 0),\n",
       " (0, 2, 1),\n",
       " (0, 2, 2),\n",
       " (0, 2, 3),\n",
       " (0, 2, 4),\n",
       " (0, 3, 0),\n",
       " (0, 3, 1),\n",
       " (0, 3, 2),\n",
       " (0, 3, 3),\n",
       " (0, 3, 4),\n",
       " (0, 4, 0),\n",
       " (0, 4, 1),\n",
       " (0, 4, 2),\n",
       " (0, 4, 3),\n",
       " (0, 4, 4),\n",
       " (1, 0, 0),\n",
       " (1, 0, 1),\n",
       " (1, 0, 2),\n",
       " (1, 0, 3),\n",
       " (1, 0, 4),\n",
       " (1, 1, 0),\n",
       " (1, 1, 1),\n",
       " (1, 1, 2),\n",
       " (1, 1, 3),\n",
       " (1, 1, 4),\n",
       " (1, 2, 0),\n",
       " (1, 2, 1),\n",
       " (1, 2, 2),\n",
       " (1, 2, 3),\n",
       " (1, 2, 4),\n",
       " (1, 3, 0),\n",
       " (1, 3, 1),\n",
       " (1, 3, 2),\n",
       " (1, 3, 3),\n",
       " (1, 3, 4),\n",
       " (1, 4, 0),\n",
       " (1, 4, 1),\n",
       " (1, 4, 2),\n",
       " (1, 4, 3),\n",
       " (1, 4, 4),\n",
       " (2, 0, 0),\n",
       " (2, 0, 1),\n",
       " (2, 0, 2),\n",
       " (2, 0, 3),\n",
       " (2, 0, 4),\n",
       " (2, 1, 0),\n",
       " (2, 1, 1),\n",
       " (2, 1, 2),\n",
       " (2, 1, 3),\n",
       " (2, 1, 4),\n",
       " (2, 2, 0),\n",
       " (2, 2, 1),\n",
       " (2, 2, 2),\n",
       " (2, 2, 3),\n",
       " (2, 2, 4),\n",
       " (2, 3, 0),\n",
       " (2, 3, 1),\n",
       " (2, 3, 2),\n",
       " (2, 3, 3),\n",
       " (2, 3, 4),\n",
       " (2, 4, 0),\n",
       " (2, 4, 1),\n",
       " (2, 4, 2),\n",
       " (2, 4, 3),\n",
       " (2, 4, 4),\n",
       " (3, 0, 0),\n",
       " (3, 0, 1),\n",
       " (3, 0, 2),\n",
       " (3, 0, 3),\n",
       " (3, 0, 4),\n",
       " (3, 1, 0),\n",
       " (3, 1, 1),\n",
       " (3, 1, 2),\n",
       " (3, 1, 3),\n",
       " (3, 1, 4),\n",
       " (3, 2, 0),\n",
       " (3, 2, 1),\n",
       " (3, 2, 2),\n",
       " (3, 2, 3),\n",
       " (3, 2, 4),\n",
       " (3, 3, 0),\n",
       " (3, 3, 1),\n",
       " (3, 3, 2),\n",
       " (3, 3, 3),\n",
       " (3, 3, 4),\n",
       " (3, 4, 0),\n",
       " (3, 4, 1),\n",
       " (3, 4, 2),\n",
       " (3, 4, 3),\n",
       " (3, 4, 4),\n",
       " (4, 0, 0),\n",
       " (4, 0, 1),\n",
       " (4, 0, 2),\n",
       " (4, 0, 3),\n",
       " (4, 0, 4),\n",
       " (4, 1, 0),\n",
       " (4, 1, 1),\n",
       " (4, 1, 2),\n",
       " (4, 1, 3),\n",
       " (4, 1, 4),\n",
       " (4, 2, 0),\n",
       " (4, 2, 1),\n",
       " (4, 2, 2),\n",
       " (4, 2, 3),\n",
       " (4, 2, 4),\n",
       " (4, 3, 0),\n",
       " (4, 3, 1),\n",
       " (4, 3, 2),\n",
       " (4, 3, 3),\n",
       " (4, 3, 4),\n",
       " (4, 4, 0),\n",
       " (4, 4, 1),\n",
       " (4, 4, 2),\n",
       " (4, 4, 3),\n",
       " (4, 4, 4)]"
      ]
     },
     "execution_count": 56,
     "metadata": {},
     "output_type": "execute_result"
    }
   ],
   "source": [
    "p=d=q=range(0,5)\n",
    "\n",
    "import itertools\n",
    "pdq=list(itertools.product(p,d,q))\n",
    "pdq"
   ]
  },
  {
   "cell_type": "code",
   "execution_count": 57,
   "metadata": {},
   "outputs": [
    {
     "name": "stdout",
     "output_type": "stream",
     "text": [
      "(0, 0, 0) 6220.009770108627\n",
      "(0, 0, 1) 5343.729949613807\n",
      "(0, 1, 0) 3425.89395015854\n",
      "(0, 1, 1) 3160.797058245038\n",
      "(0, 1, 3) 2926.3634649559817\n",
      "(0, 1, 4) 2861.938375041694\n",
      "(0, 2, 0) 3524.9996324975446\n",
      "(0, 2, 1) 3476.545190208354\n",
      "(0, 2, 2) 3164.4939719188687\n",
      "(0, 2, 3) 3147.5001003279735\n",
      "(1, 0, 0) 3437.085114715944\n",
      "(1, 0, 1) 3169.7874492415103\n",
      "(1, 0, 2) 3151.9293584409806\n",
      "(1, 0, 3) 2974.593634006509\n",
      "(1, 0, 4) 2915.8633151279128\n",
      "(1, 1, 0) 3302.837664413224\n",
      "(1, 1, 1) 3320.9267808640184\n",
      "(1, 1, 2) 2989.2082999222953\n",
      "(1, 1, 3) 2911.4296144829823\n",
      "(1, 1, 4) 2881.594686900779\n",
      "(1, 2, 0) 3502.2407017634077\n",
      "(2, 0, 0) 3310.283792039124\n",
      "(2, 0, 1) 3371.3655816390437\n",
      "(2, 0, 2) 3042.0261592447932\n",
      "(2, 0, 3) 2965.788465313544\n",
      "(2, 0, 4) 2922.197116224809\n",
      "(2, 1, 0) 2885.9607419104077\n",
      "(2, 1, 2) 2550.840578251575\n",
      "(2, 1, 4) 2536.151854505253\n",
      "(2, 2, 0) 3367.613889471031\n",
      "(3, 0, 0) 2899.389664618273\n",
      "(3, 0, 1) 2764.9956033351996\n",
      "(3, 1, 0) 2739.8041603094753\n",
      "(3, 1, 1) 2703.8088901729766\n",
      "(3, 1, 4) 2600.3434463118037\n",
      "(3, 2, 0) 3141.3578176858437\n",
      "(3, 2, 2) 2732.6211382150454\n",
      "(4, 0, 0) 2761.8505590265377\n",
      "(4, 1, 0) 2716.8378483553747\n",
      "(4, 1, 1) 2677.6791044023453\n",
      "(4, 1, 3) 2533.6267111306643\n",
      "(4, 2, 0) 2902.735579059158\n",
      "(4, 2, 1) 2722.7471215764417\n",
      "(4, 2, 2) 2713.759922584982\n"
     ]
    }
   ],
   "source": [
    "import warnings\n",
    "warnings.filterwarnings('ignore')\n",
    "\n",
    "for i in pdq:\n",
    "    try:\n",
    "        model_arima=ARIMA(train,order=i)\n",
    "        model_arima_fit=model_arima.fit()\n",
    "        print(i,model_arima_fit.aic)\n",
    "        \n",
    "    except:\n",
    "        continue"
   ]
  },
  {
   "cell_type": "code",
   "execution_count": 58,
   "metadata": {},
   "outputs": [
    {
     "name": "stdout",
     "output_type": "stream",
     "text": [
      "2533.6267111306643\n"
     ]
    }
   ],
   "source": [
    "# min AIC for 4,1,3\n",
    "\n",
    "model_arima=ARIMA(train, order=(4,1,3)) \n",
    "model_arima_fit=model_arima.fit()\n",
    "print(model_arima_fit.aic)"
   ]
  },
  {
   "cell_type": "code",
   "execution_count": 59,
   "metadata": {},
   "outputs": [
    {
     "data": {
      "text/plain": [
       "(288, 1)"
      ]
     },
     "execution_count": 59,
     "metadata": {},
     "output_type": "execute_result"
    }
   ],
   "source": [
    "test.shape"
   ]
  },
  {
   "cell_type": "code",
   "execution_count": 60,
   "metadata": {},
   "outputs": [
    {
     "data": {
      "text/plain": [
       "array([ 91.18214123,  89.77339301,  82.60538125,  76.77156565,\n",
       "        78.34269973,  85.81592119,  91.8316953 ,  90.46580657,\n",
       "        83.20866131,  77.45478132,  79.09289089,  86.5969912 ,\n",
       "        92.55802631,  91.11444313,  83.83133196,  78.13061027,\n",
       "        79.84712181,  87.37646879,  93.28417539,  91.76221626,\n",
       "        84.45427305,  78.80717606,  80.60198229,  88.15576824,\n",
       "        94.00954609,  92.40937944,  85.07738939,  79.48452445,\n",
       "        81.35744867,  88.93488882,  94.7341327 ,  93.05593968,\n",
       "        85.70068869,  80.16265819,  82.11351512,  89.71382234,\n",
       "        95.45793274,  93.70190274,  86.32417914,  80.8415797 ,\n",
       "        82.87017584,  90.49256059,  96.18094383,  94.34727444,\n",
       "        86.94786896,  81.52129133,  83.62742498,  91.2710954 ,\n",
       "        96.90316365,  94.99206067,  87.5717663 ,  82.20179535,\n",
       "        84.38525662,  92.0494186 ,  97.62458999,  95.63626739,\n",
       "        88.19587933,  82.88309392,  85.14366479,  92.82752205,\n",
       "        98.34522071,  96.27990059,  88.82021617,  83.56518916,\n",
       "        85.90264344,  93.60539764,  99.06505376,  96.92296635,\n",
       "        89.44478492,  84.24808307,  86.66218647,  94.38303726,\n",
       "        99.78408715,  97.5654708 ,  90.06959368,  84.93177757,\n",
       "        87.42228773,  95.16043285, 100.50231902,  98.20742013,\n",
       "        90.69465049,  85.61627452,  88.182941  ,  95.93757637,\n",
       "       101.21974756,  98.84882058,  91.31996338,  86.30157567,\n",
       "        88.94413999,  96.7144598 , 101.93637105,  99.48967846,\n",
       "        91.94554036,  86.98768269,  89.70587838,  97.49107515,\n",
       "       102.65218786, 100.13000013,  92.5713894 ,  87.67459717,\n",
       "        90.46814978,  98.26741447, 103.36719645, 100.76979202,\n",
       "        93.19751845,  88.36232061,  91.23094773,  99.04346982,\n",
       "       104.08139535, 101.40906059,  93.82393542,  89.05085444,\n",
       "        91.99426574,  99.81923329, 104.7947832 , 102.04781238,\n",
       "        94.4506482 ,  89.74019998,  92.75809725, 100.59469703,\n",
       "       105.50735869, 102.68605397,  95.07766465,  90.43035849,\n",
       "        93.52243564, 101.36985319, 106.21912063, 103.323792  ,\n",
       "        95.70499258,  91.12133112,  94.28727425, 102.14469396,\n",
       "       106.9300679 , 103.96103316,  96.33263979,  91.81311895,\n",
       "        95.05260637, 102.91921157, 107.64019947, 104.5977842 ,\n",
       "        96.96061403,  92.50572296,  95.81842522, 103.69339828,\n",
       "       108.34951439, 105.2340519 ,  97.58892303,  93.19914407,\n",
       "        96.58472398, 104.46724638, 109.05801179, 105.86984313,\n",
       "        98.21757447,  93.89338308,  97.35149578, 105.24074822,\n",
       "       109.76569092, 106.50516478,  98.84657601,  94.58844073,\n",
       "        98.11873369, 106.01389615, 110.47255107, 107.14002378,\n",
       "        99.47593524,  95.28431766,  98.88643075, 106.78668259,\n",
       "       111.17859165, 107.77442715, 100.10565976,  95.98101444,\n",
       "        99.65457994, 107.55909997, 111.88381215, 108.40838191,\n",
       "       100.7357571 ,  96.67853152, 100.42317419, 108.33114078,\n",
       "       112.58821213, 109.04189517, 101.36623476,  97.3768693 ,\n",
       "       101.19220638, 109.10279753, 113.29179125, 109.67497405,\n",
       "       101.99710018,  98.07602807, 101.96166936, 109.87406281,\n",
       "       113.99454927, 110.30762575, 102.6283608 ,  98.77600805,\n",
       "       102.73155591, 110.64492919, 114.696486  , 110.93985749,\n",
       "       103.26002398,  99.47680936, 103.5018588 , 111.41538934,\n",
       "       115.39760138, 111.57167655, 103.89209707, 100.17843203,\n",
       "       104.27257071, 112.18543595, 116.0978954 , 112.20309023,\n",
       "       104.52458733, 100.88087603, 105.04368432, 112.95506173,\n",
       "       116.79736816, 112.83410591, 105.15750204, 101.58414121,\n",
       "       105.81519225, 113.72425948, 117.49601984, 113.46473097,\n",
       "       105.79084837, 102.28822735, 106.58708708, 114.49302201,\n",
       "       118.19385069, 114.09497287, 106.42463349, 102.99313415,\n",
       "       107.35936133, 115.2613422 , 118.89086108, 114.72483908,\n",
       "       107.05886451, 103.6988612 , 108.13200751, 116.02921295,\n",
       "       119.58705143, 115.35433712, 107.69354849, 104.40540804,\n",
       "       108.90501808, 116.79662722, 120.28242229, 115.98347457,\n",
       "       108.32869244, 105.11277408, 109.67838546, 117.56357804,\n",
       "       120.97697425, 116.61225901, 108.96430333, 105.82095869,\n",
       "       110.45210203, 118.33005846, 121.67070801, 117.24069808,\n",
       "       109.60038807, 106.5299611 , 111.22616013, 119.09606158,\n",
       "       122.36362436, 117.86879947, 110.23695354, 107.2397805 ,\n",
       "       112.00055208, 119.86158057, 123.05572417, 118.49657086,\n",
       "       110.87400653, 107.95041598, 112.77527014, 120.62660863,\n",
       "       123.74700839, 119.12402001, 111.51155383, 108.66186653,\n",
       "       113.55030657, 121.39113903, 124.43747807, 119.7511547 ,\n",
       "       112.14960214, 109.37413108, 114.32565355, 122.15516509])"
      ]
     },
     "execution_count": 60,
     "metadata": {},
     "output_type": "execute_result"
    }
   ],
   "source": [
    "pred=model_arima_fit.forecast(steps=288)[0]\n",
    "pred"
   ]
  },
  {
   "cell_type": "code",
   "execution_count": 61,
   "metadata": {},
   "outputs": [
    {
     "data": {
      "text/plain": [
       "7.2762831282658045"
      ]
     },
     "execution_count": 61,
     "metadata": {},
     "output_type": "execute_result"
    }
   ],
   "source": [
    "rmse_arima=np.sqrt(metrics.mean_squared_error(test,pred))\n",
    "rmse_arima"
   ]
  },
  {
   "cell_type": "code",
   "execution_count": 62,
   "metadata": {},
   "outputs": [
    {
     "data": {
      "text/plain": [
       "0.1378237237558945"
      ]
     },
     "execution_count": 62,
     "metadata": {},
     "output_type": "execute_result"
    }
   ],
   "source": [
    "mape_arima=np.mean(np.abs((np.asarray(test)-pred)/np.asarray(test)))\n",
    "mape_arima"
   ]
  },
  {
   "cell_type": "code",
   "execution_count": null,
   "metadata": {},
   "outputs": [],
   "source": []
  },
  {
   "cell_type": "code",
   "execution_count": 63,
   "metadata": {},
   "outputs": [
    {
     "data": {
      "text/html": [
       "<div>\n",
       "<style scoped>\n",
       "    .dataframe tbody tr th:only-of-type {\n",
       "        vertical-align: middle;\n",
       "    }\n",
       "\n",
       "    .dataframe tbody tr th {\n",
       "        vertical-align: top;\n",
       "    }\n",
       "\n",
       "    .dataframe thead th {\n",
       "        text-align: right;\n",
       "    }\n",
       "</style>\n",
       "<table border=\"1\" class=\"dataframe\">\n",
       "  <thead>\n",
       "    <tr style=\"text-align: right;\">\n",
       "      <th></th>\n",
       "      <th>Method</th>\n",
       "      <th>RMSE</th>\n",
       "      <th>MAPE</th>\n",
       "    </tr>\n",
       "  </thead>\n",
       "  <tbody>\n",
       "    <tr>\n",
       "      <th>0</th>\n",
       "      <td>ARIMA</td>\n",
       "      <td>7.276283</td>\n",
       "      <td>0.137824</td>\n",
       "    </tr>\n",
       "  </tbody>\n",
       "</table>\n",
       "</div>"
      ],
      "text/plain": [
       "  Method      RMSE      MAPE\n",
       "0  ARIMA  7.276283  0.137824"
      ]
     },
     "execution_count": 63,
     "metadata": {},
     "output_type": "execute_result"
    }
   ],
   "source": [
    "x=pd.DataFrame({'Method':['ARIMA'],'RMSE':rmse_arima,'MAPE':mape_arima})\n",
    "x"
   ]
  },
  {
   "cell_type": "code",
   "execution_count": 64,
   "metadata": {},
   "outputs": [
    {
     "data": {
      "text/html": [
       "<div>\n",
       "<style scoped>\n",
       "    .dataframe tbody tr th:only-of-type {\n",
       "        vertical-align: middle;\n",
       "    }\n",
       "\n",
       "    .dataframe tbody tr th {\n",
       "        vertical-align: top;\n",
       "    }\n",
       "\n",
       "    .dataframe thead th {\n",
       "        text-align: right;\n",
       "    }\n",
       "</style>\n",
       "<table border=\"1\" class=\"dataframe\">\n",
       "  <thead>\n",
       "    <tr style=\"text-align: right;\">\n",
       "      <th></th>\n",
       "      <th>Method</th>\n",
       "      <th>RMSE</th>\n",
       "      <th>MAPE</th>\n",
       "    </tr>\n",
       "  </thead>\n",
       "  <tbody>\n",
       "    <tr>\n",
       "      <th>IPG</th>\n",
       "      <td>Regression On Time</td>\n",
       "      <td>9.913628</td>\n",
       "      <td>0.083623</td>\n",
       "    </tr>\n",
       "    <tr>\n",
       "      <th>IPG</th>\n",
       "      <td>Reg On Seasonality</td>\n",
       "      <td>8.335028</td>\n",
       "      <td>0.068506</td>\n",
       "    </tr>\n",
       "    <tr>\n",
       "      <th>0</th>\n",
       "      <td>AR</td>\n",
       "      <td>12.414810</td>\n",
       "      <td>0.087798</td>\n",
       "    </tr>\n",
       "    <tr>\n",
       "      <th>0</th>\n",
       "      <td>ARIMA</td>\n",
       "      <td>7.276283</td>\n",
       "      <td>0.137824</td>\n",
       "    </tr>\n",
       "  </tbody>\n",
       "</table>\n",
       "</div>"
      ],
      "text/plain": [
       "                 Method       RMSE      MAPE\n",
       "IPG  Regression On Time   9.913628  0.083623\n",
       "IPG  Reg On Seasonality   8.335028  0.068506\n",
       "0                    AR  12.414810  0.087798\n",
       "0                 ARIMA   7.276283  0.137824"
      ]
     },
     "execution_count": 64,
     "metadata": {},
     "output_type": "execute_result"
    }
   ],
   "source": [
    "fin=pd.concat([fin,x],axis=0)\n",
    "fin"
   ]
  },
  {
   "cell_type": "code",
   "execution_count": 65,
   "metadata": {
    "scrolled": true
   },
   "outputs": [
    {
     "data": {
      "text/plain": [
       "<matplotlib.legend.Legend at 0xc747e10>"
      ]
     },
     "execution_count": 65,
     "metadata": {},
     "output_type": "execute_result"
    },
    {
     "data": {
      "image/png": "[encoded data removed]",
      "text/plain": [
       "<Figure size 432x288 with 1 Axes>"
      ]
     },
     "metadata": {
      "needs_background": "light"
     },
     "output_type": "display_data"
    }
   ],
   "source": [
    "plt.plot(pred,label='arima Predicted')\n",
    "plt.plot(test.values,label='arima Original')\n",
    "plt.legend()"
   ]
  },
  {
   "cell_type": "markdown",
   "metadata": {},
   "source": [
    "### Simple Average"
   ]
  },
  {
   "cell_type": "code",
   "execution_count": 66,
   "metadata": {},
   "outputs": [],
   "source": [
    "y_hat_avg=test.copy()"
   ]
  },
  {
   "cell_type": "code",
   "execution_count": 67,
   "metadata": {},
   "outputs": [],
   "source": [
    "y_hat_avg['Simple_Avg_Forecast']=train['IPG'].mean()"
   ]
  },
  {
   "cell_type": "code",
   "execution_count": 68,
   "metadata": {},
   "outputs": [
    {
     "data": {
      "text/html": [
       "<div>\n",
       "<style scoped>\n",
       "    .dataframe tbody tr th:only-of-type {\n",
       "        vertical-align: middle;\n",
       "    }\n",
       "\n",
       "    .dataframe tbody tr th {\n",
       "        vertical-align: top;\n",
       "    }\n",
       "\n",
       "    .dataframe thead th {\n",
       "        text-align: right;\n",
       "    }\n",
       "</style>\n",
       "<table border=\"1\" class=\"dataframe\">\n",
       "  <thead>\n",
       "    <tr style=\"text-align: right;\">\n",
       "      <th></th>\n",
       "      <th>IPG</th>\n",
       "      <th>Simple_Avg_Forecast</th>\n",
       "    </tr>\n",
       "    <tr>\n",
       "      <th>DATE</th>\n",
       "      <th></th>\n",
       "      <th></th>\n",
       "    </tr>\n",
       "  </thead>\n",
       "  <tbody>\n",
       "    <tr>\n",
       "      <th>1995-01-01</th>\n",
       "      <td>92.7412</td>\n",
       "      <td>35.894772</td>\n",
       "    </tr>\n",
       "    <tr>\n",
       "      <th>1995-02-01</th>\n",
       "      <td>87.6670</td>\n",
       "      <td>35.894772</td>\n",
       "    </tr>\n",
       "    <tr>\n",
       "      <th>1995-03-01</th>\n",
       "      <td>81.5205</td>\n",
       "      <td>35.894772</td>\n",
       "    </tr>\n",
       "    <tr>\n",
       "      <th>1995-04-01</th>\n",
       "      <td>74.0457</td>\n",
       "      <td>35.894772</td>\n",
       "    </tr>\n",
       "    <tr>\n",
       "      <th>1995-05-01</th>\n",
       "      <td>73.5003</td>\n",
       "      <td>35.894772</td>\n",
       "    </tr>\n",
       "  </tbody>\n",
       "</table>\n",
       "</div>"
      ],
      "text/plain": [
       "                IPG  Simple_Avg_Forecast\n",
       "DATE                                    \n",
       "1995-01-01  92.7412            35.894772\n",
       "1995-02-01  87.6670            35.894772\n",
       "1995-03-01  81.5205            35.894772\n",
       "1995-04-01  74.0457            35.894772\n",
       "1995-05-01  73.5003            35.894772"
      ]
     },
     "execution_count": 68,
     "metadata": {},
     "output_type": "execute_result"
    }
   ],
   "source": [
    "y_hat_avg.head()"
   ]
  },
  {
   "cell_type": "code",
   "execution_count": 69,
   "metadata": {},
   "outputs": [
    {
     "data": {
      "image/png": "[encoded data removed]",
      "text/plain": [
       "<Figure size 432x288 with 1 Axes>"
      ]
     },
     "metadata": {
      "needs_background": "light"
     },
     "output_type": "display_data"
    }
   ],
   "source": [
    "plt.plot(train['IPG'],label=train)\n",
    "plt.plot(y_hat_avg['IPG'],label='test')\n",
    "plt.plot(y_hat_avg['Simple_Avg_Forecast'],label='Predicted')\n",
    "plt.show()"
   ]
  },
  {
   "cell_type": "code",
   "execution_count": 70,
   "metadata": {},
   "outputs": [
    {
     "data": {
      "text/plain": [
       "61.91439561081234"
      ]
     },
     "execution_count": 70,
     "metadata": {},
     "output_type": "execute_result"
    }
   ],
   "source": [
    "rmse_avg=np.sqrt(metrics.mean_squared_error(y_hat_avg['IPG'],y_hat_avg['Simple_Avg_Forecast']))\n",
    "rmse_avg"
   ]
  },
  {
   "cell_type": "code",
   "execution_count": 71,
   "metadata": {},
   "outputs": [
    {
     "data": {
      "text/plain": [
       "0.6246702489666103"
      ]
     },
     "execution_count": 71,
     "metadata": {},
     "output_type": "execute_result"
    }
   ],
   "source": [
    "mape_avg=np.mean(np.abs((y_hat_avg['IPG']-y_hat_avg['Simple_Avg_Forecast'])/y_hat_avg['IPG']))\n",
    "mape_avg"
   ]
  },
  {
   "cell_type": "markdown",
   "metadata": {},
   "source": [
    "### Moving Average"
   ]
  },
  {
   "cell_type": "code",
   "execution_count": 84,
   "metadata": {},
   "outputs": [
    {
     "data": {
      "text/html": [
       "<div>\n",
       "<style scoped>\n",
       "    .dataframe tbody tr th:only-of-type {\n",
       "        vertical-align: middle;\n",
       "    }\n",
       "\n",
       "    .dataframe tbody tr th {\n",
       "        vertical-align: top;\n",
       "    }\n",
       "\n",
       "    .dataframe thead th {\n",
       "        text-align: right;\n",
       "    }\n",
       "</style>\n",
       "<table border=\"1\" class=\"dataframe\">\n",
       "  <thead>\n",
       "    <tr style=\"text-align: right;\">\n",
       "      <th></th>\n",
       "      <th>IPG</th>\n",
       "      <th>Mov_Avg_Forecast</th>\n",
       "    </tr>\n",
       "    <tr>\n",
       "      <th>DATE</th>\n",
       "      <th></th>\n",
       "      <th></th>\n",
       "    </tr>\n",
       "  </thead>\n",
       "  <tbody>\n",
       "    <tr>\n",
       "      <th>2018-08-01</th>\n",
       "      <td>113.2758</td>\n",
       "      <td>103.081276</td>\n",
       "    </tr>\n",
       "    <tr>\n",
       "      <th>2018-09-01</th>\n",
       "      <td>101.5656</td>\n",
       "      <td>102.939928</td>\n",
       "    </tr>\n",
       "    <tr>\n",
       "      <th>2018-10-01</th>\n",
       "      <td>95.3203</td>\n",
       "      <td>102.678550</td>\n",
       "    </tr>\n",
       "    <tr>\n",
       "      <th>2018-11-01</th>\n",
       "      <td>103.5750</td>\n",
       "      <td>102.741574</td>\n",
       "    </tr>\n",
       "    <tr>\n",
       "      <th>2018-12-01</th>\n",
       "      <td>112.9498</td>\n",
       "      <td>103.157838</td>\n",
       "    </tr>\n",
       "  </tbody>\n",
       "</table>\n",
       "</div>"
      ],
      "text/plain": [
       "                 IPG  Mov_Avg_Forecast\n",
       "DATE                                  \n",
       "2018-08-01  113.2758        103.081276\n",
       "2018-09-01  101.5656        102.939928\n",
       "2018-10-01   95.3203        102.678550\n",
       "2018-11-01  103.5750        102.741574\n",
       "2018-12-01  112.9498        103.157838"
      ]
     },
     "execution_count": 84,
     "metadata": {},
     "output_type": "execute_result"
    }
   ],
   "source": [
    "data2=data.copy()\n",
    "data2['Mov_Avg_Forecast']=data['IPG'].rolling(50).mean()\n",
    "data2.tail()"
   ]
  },
  {
   "cell_type": "code",
   "execution_count": 85,
   "metadata": {},
   "outputs": [],
   "source": [
    "train=data2[:len(data2)-288]\n",
    "test=data2[len(data2)-288:]"
   ]
  },
  {
   "cell_type": "code",
   "execution_count": 89,
   "metadata": {},
   "outputs": [
    {
     "data": {
      "text/plain": [
       "<matplotlib.legend.Legend at 0x15784668>"
      ]
     },
     "execution_count": 89,
     "metadata": {},
     "output_type": "execute_result"
    },
    {
     "data": {
      "image/png": "[encoded data removed]",
      "text/plain": [
       "<Figure size 432x288 with 1 Axes>"
      ]
     },
     "metadata": {
      "needs_background": "light"
     },
     "output_type": "display_data"
    }
   ],
   "source": [
    "plt.plot(train['IPG'],label='train')\n",
    "plt.plot(test['IPG'],label='test')\n",
    "plt.plot(test['Mov_Avg_Forecast'],label='Mov Avg Forecast')\n",
    "plt.legend()"
   ]
  },
  {
   "cell_type": "code",
   "execution_count": 90,
   "metadata": {},
   "outputs": [
    {
     "data": {
      "text/plain": [
       "8.768590501387603"
      ]
     },
     "execution_count": 90,
     "metadata": {},
     "output_type": "execute_result"
    }
   ],
   "source": [
    "rmse_movavg=np.sqrt(metrics.mean_squared_error(test['IPG'],test['Mov_Avg_Forecast']))\n",
    "rmse_movavg"
   ]
  },
  {
   "cell_type": "code",
   "execution_count": 92,
   "metadata": {},
   "outputs": [
    {
     "data": {
      "text/plain": [
       "0.07437572671967968"
      ]
     },
     "execution_count": 92,
     "metadata": {},
     "output_type": "execute_result"
    }
   ],
   "source": [
    "mape_movavg=np.mean(np.abs((test['IPG']-test['Mov_Avg_Forecast'])/test['IPG']))\n",
    "mape_movavg"
   ]
  },
  {
   "cell_type": "markdown",
   "metadata": {},
   "source": [
    "### Naive Bayes"
   ]
  },
  {
   "cell_type": "code",
   "execution_count": 97,
   "metadata": {},
   "outputs": [
    {
     "data": {
      "text/html": [
       "<div>\n",
       "<style scoped>\n",
       "    .dataframe tbody tr th:only-of-type {\n",
       "        vertical-align: middle;\n",
       "    }\n",
       "\n",
       "    .dataframe tbody tr th {\n",
       "        vertical-align: top;\n",
       "    }\n",
       "\n",
       "    .dataframe thead th {\n",
       "        text-align: right;\n",
       "    }\n",
       "</style>\n",
       "<table border=\"1\" class=\"dataframe\">\n",
       "  <thead>\n",
       "    <tr style=\"text-align: right;\">\n",
       "      <th></th>\n",
       "      <th>IPG</th>\n",
       "    </tr>\n",
       "    <tr>\n",
       "      <th>DATE</th>\n",
       "      <th></th>\n",
       "    </tr>\n",
       "  </thead>\n",
       "  <tbody>\n",
       "    <tr>\n",
       "      <th>1939-01-01</th>\n",
       "      <td>NaN</td>\n",
       "    </tr>\n",
       "    <tr>\n",
       "      <th>1939-02-01</th>\n",
       "      <td>3.3842</td>\n",
       "    </tr>\n",
       "    <tr>\n",
       "      <th>1939-03-01</th>\n",
       "      <td>3.4100</td>\n",
       "    </tr>\n",
       "    <tr>\n",
       "      <th>1939-04-01</th>\n",
       "      <td>3.4875</td>\n",
       "    </tr>\n",
       "    <tr>\n",
       "      <th>1939-05-01</th>\n",
       "      <td>3.5133</td>\n",
       "    </tr>\n",
       "  </tbody>\n",
       "</table>\n",
       "</div>"
      ],
      "text/plain": [
       "               IPG\n",
       "DATE              \n",
       "1939-01-01     NaN\n",
       "1939-02-01  3.3842\n",
       "1939-03-01  3.4100\n",
       "1939-04-01  3.4875\n",
       "1939-05-01  3.5133"
      ]
     },
     "execution_count": 97,
     "metadata": {},
     "output_type": "execute_result"
    }
   ],
   "source": [
    "data3=data.shift(1)\n",
    "data3.head()"
   ]
  },
  {
   "cell_type": "code",
   "execution_count": 98,
   "metadata": {},
   "outputs": [
    {
     "data": {
      "text/plain": [
       "<matplotlib.legend.Legend at 0x1531d1d0>"
      ]
     },
     "execution_count": 98,
     "metadata": {},
     "output_type": "execute_result"
    },
    {
     "data": {
      "image/png": "[encoded data removed]",
      "text/plain": [
       "<Figure size 432x288 with 1 Axes>"
      ]
     },
     "metadata": {
      "needs_background": "light"
     },
     "output_type": "display_data"
    }
   ],
   "source": [
    "plt.plot(data['IPG'],label='Original')\n",
    "plt.plot(data3['IPG'],label='Predictive')\n",
    "plt.legend()"
   ]
  },
  {
   "cell_type": "code",
   "execution_count": 109,
   "metadata": {},
   "outputs": [],
   "source": [
    "data3.dropna(inplace=True)"
   ]
  },
  {
   "cell_type": "code",
   "execution_count": 111,
   "metadata": {
    "scrolled": true
   },
   "outputs": [
    {
     "data": {
      "text/plain": [
       "IPG    0\n",
       "dtype: int64"
      ]
     },
     "execution_count": 111,
     "metadata": {},
     "output_type": "execute_result"
    }
   ],
   "source": [
    "data3.isnull().sum()"
   ]
  },
  {
   "cell_type": "code",
   "execution_count": 113,
   "metadata": {},
   "outputs": [
    {
     "data": {
      "text/html": [
       "<div>\n",
       "<style scoped>\n",
       "    .dataframe tbody tr th:only-of-type {\n",
       "        vertical-align: middle;\n",
       "    }\n",
       "\n",
       "    .dataframe tbody tr th {\n",
       "        vertical-align: top;\n",
       "    }\n",
       "\n",
       "    .dataframe thead th {\n",
       "        text-align: right;\n",
       "    }\n",
       "</style>\n",
       "<table border=\"1\" class=\"dataframe\">\n",
       "  <thead>\n",
       "    <tr style=\"text-align: right;\">\n",
       "      <th></th>\n",
       "      <th>IPG</th>\n",
       "    </tr>\n",
       "    <tr>\n",
       "      <th>DATE</th>\n",
       "      <th></th>\n",
       "    </tr>\n",
       "  </thead>\n",
       "  <tbody>\n",
       "    <tr>\n",
       "      <th>1939-02-01</th>\n",
       "      <td>3.3842</td>\n",
       "    </tr>\n",
       "    <tr>\n",
       "      <th>1939-03-01</th>\n",
       "      <td>3.4100</td>\n",
       "    </tr>\n",
       "    <tr>\n",
       "      <th>1939-04-01</th>\n",
       "      <td>3.4875</td>\n",
       "    </tr>\n",
       "    <tr>\n",
       "      <th>1939-05-01</th>\n",
       "      <td>3.5133</td>\n",
       "    </tr>\n",
       "    <tr>\n",
       "      <th>1939-06-01</th>\n",
       "      <td>3.5133</td>\n",
       "    </tr>\n",
       "  </tbody>\n",
       "</table>\n",
       "</div>"
      ],
      "text/plain": [
       "               IPG\n",
       "DATE              \n",
       "1939-02-01  3.3842\n",
       "1939-03-01  3.4100\n",
       "1939-04-01  3.4875\n",
       "1939-05-01  3.5133\n",
       "1939-06-01  3.5133"
      ]
     },
     "execution_count": 113,
     "metadata": {},
     "output_type": "execute_result"
    }
   ],
   "source": [
    "data3.head()"
   ]
  },
  {
   "cell_type": "code",
   "execution_count": 114,
   "metadata": {},
   "outputs": [],
   "source": [
    "data=data[1:]"
   ]
  },
  {
   "cell_type": "code",
   "execution_count": 115,
   "metadata": {},
   "outputs": [
    {
     "data": {
      "text/html": [
       "<div>\n",
       "<style scoped>\n",
       "    .dataframe tbody tr th:only-of-type {\n",
       "        vertical-align: middle;\n",
       "    }\n",
       "\n",
       "    .dataframe tbody tr th {\n",
       "        vertical-align: top;\n",
       "    }\n",
       "\n",
       "    .dataframe thead th {\n",
       "        text-align: right;\n",
       "    }\n",
       "</style>\n",
       "<table border=\"1\" class=\"dataframe\">\n",
       "  <thead>\n",
       "    <tr style=\"text-align: right;\">\n",
       "      <th></th>\n",
       "      <th>IPG</th>\n",
       "    </tr>\n",
       "    <tr>\n",
       "      <th>DATE</th>\n",
       "      <th></th>\n",
       "    </tr>\n",
       "  </thead>\n",
       "  <tbody>\n",
       "    <tr>\n",
       "      <th>1939-02-01</th>\n",
       "      <td>3.4100</td>\n",
       "    </tr>\n",
       "    <tr>\n",
       "      <th>1939-03-01</th>\n",
       "      <td>3.4875</td>\n",
       "    </tr>\n",
       "    <tr>\n",
       "      <th>1939-04-01</th>\n",
       "      <td>3.5133</td>\n",
       "    </tr>\n",
       "    <tr>\n",
       "      <th>1939-05-01</th>\n",
       "      <td>3.5133</td>\n",
       "    </tr>\n",
       "    <tr>\n",
       "      <th>1939-06-01</th>\n",
       "      <td>3.5650</td>\n",
       "    </tr>\n",
       "  </tbody>\n",
       "</table>\n",
       "</div>"
      ],
      "text/plain": [
       "               IPG\n",
       "DATE              \n",
       "1939-02-01  3.4100\n",
       "1939-03-01  3.4875\n",
       "1939-04-01  3.5133\n",
       "1939-05-01  3.5133\n",
       "1939-06-01  3.5650"
      ]
     },
     "execution_count": 115,
     "metadata": {},
     "output_type": "execute_result"
    }
   ],
   "source": [
    "data.head()"
   ]
  },
  {
   "cell_type": "code",
   "execution_count": null,
   "metadata": {},
   "outputs": [],
   "source": []
  },
  {
   "cell_type": "code",
   "execution_count": 116,
   "metadata": {},
   "outputs": [
    {
     "data": {
      "text/plain": [
       "5.4213677206804824"
      ]
     },
     "execution_count": 116,
     "metadata": {},
     "output_type": "execute_result"
    }
   ],
   "source": [
    "rmse_nb=np.sqrt(metrics.mean_squared_error(data['IPG'],data3['IPG']))\n",
    "rmse_nb"
   ]
  },
  {
   "cell_type": "code",
   "execution_count": 117,
   "metadata": {},
   "outputs": [
    {
     "data": {
      "text/plain": [
       "0.07437572671967968"
      ]
     },
     "execution_count": 117,
     "metadata": {},
     "output_type": "execute_result"
    }
   ],
   "source": [
    "mape_movavg=np.mean(np.abs((test['IPG']-test['Mov_Avg_Forecast'])/test['IPG']))\n",
    "mape_movavg"
   ]
  },
  {
   "cell_type": "markdown",
   "metadata": {},
   "source": [
    "### Simple Exponential Smoothing"
   ]
  },
  {
   "cell_type": "code",
   "execution_count": 118,
   "metadata": {},
   "outputs": [],
   "source": [
    "from statsmodels.tsa.api import ExponentialSmoothing,SimpleExpSmoothing"
   ]
  },
  {
   "cell_type": "code",
   "execution_count": 119,
   "metadata": {},
   "outputs": [
    {
     "data": {
      "text/plain": [
       "(959, 1)"
      ]
     },
     "execution_count": 119,
     "metadata": {},
     "output_type": "execute_result"
    }
   ],
   "source": [
    "data.shape"
   ]
  },
  {
   "cell_type": "code",
   "execution_count": 121,
   "metadata": {},
   "outputs": [
    {
     "data": {
      "text/html": [
       "<div>\n",
       "<style scoped>\n",
       "    .dataframe tbody tr th:only-of-type {\n",
       "        vertical-align: middle;\n",
       "    }\n",
       "\n",
       "    .dataframe tbody tr th {\n",
       "        vertical-align: top;\n",
       "    }\n",
       "\n",
       "    .dataframe thead th {\n",
       "        text-align: right;\n",
       "    }\n",
       "</style>\n",
       "<table border=\"1\" class=\"dataframe\">\n",
       "  <thead>\n",
       "    <tr style=\"text-align: right;\">\n",
       "      <th></th>\n",
       "      <th>IPG2211A2N</th>\n",
       "    </tr>\n",
       "    <tr>\n",
       "      <th>DATE</th>\n",
       "      <th></th>\n",
       "    </tr>\n",
       "  </thead>\n",
       "  <tbody>\n",
       "    <tr>\n",
       "      <th>2018-12-01</th>\n",
       "      <td>112.9498</td>\n",
       "    </tr>\n",
       "    <tr>\n",
       "      <th>2019-01-01</th>\n",
       "      <td>123.7679</td>\n",
       "    </tr>\n",
       "    <tr>\n",
       "      <th>2019-02-01</th>\n",
       "      <td>113.0855</td>\n",
       "    </tr>\n",
       "    <tr>\n",
       "      <th>2019-03-01</th>\n",
       "      <td>108.0490</td>\n",
       "    </tr>\n",
       "    <tr>\n",
       "      <th>2019-04-01</th>\n",
       "      <td>88.8719</td>\n",
       "    </tr>\n",
       "  </tbody>\n",
       "</table>\n",
       "</div>"
      ],
      "text/plain": [
       "            IPG2211A2N\n",
       "DATE                  \n",
       "2018-12-01    112.9498\n",
       "2019-01-01    123.7679\n",
       "2019-02-01    113.0855\n",
       "2019-03-01    108.0490\n",
       "2019-04-01     88.8719"
      ]
     },
     "execution_count": 121,
     "metadata": {},
     "output_type": "execute_result"
    }
   ],
   "source": [
    "# loading data\n",
    "data=pd.read_csv('C:/Users/user/PGP-DSE/Time Series/Project group - 3/Electric_Production.csv',header=0,index_col=0,\n",
    "                parse_dates=['DATE'])\n",
    "data.tail()"
   ]
  },
  {
   "cell_type": "code",
   "execution_count": 124,
   "metadata": {},
   "outputs": [
    {
     "data": {
      "text/html": [
       "<div>\n",
       "<style scoped>\n",
       "    .dataframe tbody tr th:only-of-type {\n",
       "        vertical-align: middle;\n",
       "    }\n",
       "\n",
       "    .dataframe tbody tr th {\n",
       "        vertical-align: top;\n",
       "    }\n",
       "\n",
       "    .dataframe thead th {\n",
       "        text-align: right;\n",
       "    }\n",
       "</style>\n",
       "<table border=\"1\" class=\"dataframe\">\n",
       "  <thead>\n",
       "    <tr style=\"text-align: right;\">\n",
       "      <th></th>\n",
       "      <th>IPG2211A2N</th>\n",
       "    </tr>\n",
       "    <tr>\n",
       "      <th>DATE</th>\n",
       "      <th></th>\n",
       "    </tr>\n",
       "  </thead>\n",
       "  <tbody>\n",
       "    <tr>\n",
       "      <th>2018-12-01</th>\n",
       "      <td>112.9498</td>\n",
       "    </tr>\n",
       "    <tr>\n",
       "      <th>2019-01-01</th>\n",
       "      <td>123.7679</td>\n",
       "    </tr>\n",
       "    <tr>\n",
       "      <th>2019-02-01</th>\n",
       "      <td>113.0855</td>\n",
       "    </tr>\n",
       "    <tr>\n",
       "      <th>2019-03-01</th>\n",
       "      <td>108.0490</td>\n",
       "    </tr>\n",
       "    <tr>\n",
       "      <th>2019-04-01</th>\n",
       "      <td>88.8719</td>\n",
       "    </tr>\n",
       "  </tbody>\n",
       "</table>\n",
       "</div>"
      ],
      "text/plain": [
       "            IPG2211A2N\n",
       "DATE                  \n",
       "2018-12-01    112.9498\n",
       "2019-01-01    123.7679\n",
       "2019-02-01    113.0855\n",
       "2019-03-01    108.0490\n",
       "2019-04-01     88.8719"
      ]
     },
     "execution_count": 124,
     "metadata": {},
     "output_type": "execute_result"
    }
   ],
   "source": []
  },
  {
   "cell_type": "code",
   "execution_count": 127,
   "metadata": {},
   "outputs": [
    {
     "data": {
      "text/html": [
       "<div>\n",
       "<style scoped>\n",
       "    .dataframe tbody tr th:only-of-type {\n",
       "        vertical-align: middle;\n",
       "    }\n",
       "\n",
       "    .dataframe tbody tr th {\n",
       "        vertical-align: top;\n",
       "    }\n",
       "\n",
       "    .dataframe thead th {\n",
       "        text-align: right;\n",
       "    }\n",
       "</style>\n",
       "<table border=\"1\" class=\"dataframe\">\n",
       "  <thead>\n",
       "    <tr style=\"text-align: right;\">\n",
       "      <th></th>\n",
       "      <th>IPG2211A2N</th>\n",
       "    </tr>\n",
       "    <tr>\n",
       "      <th>DATE</th>\n",
       "      <th></th>\n",
       "    </tr>\n",
       "  </thead>\n",
       "  <tbody>\n",
       "    <tr>\n",
       "      <th>2018-08-01</th>\n",
       "      <td>113.2758</td>\n",
       "    </tr>\n",
       "    <tr>\n",
       "      <th>2018-09-01</th>\n",
       "      <td>101.5656</td>\n",
       "    </tr>\n",
       "    <tr>\n",
       "      <th>2018-10-01</th>\n",
       "      <td>95.3203</td>\n",
       "    </tr>\n",
       "    <tr>\n",
       "      <th>2018-11-01</th>\n",
       "      <td>103.5750</td>\n",
       "    </tr>\n",
       "    <tr>\n",
       "      <th>2018-12-01</th>\n",
       "      <td>112.9498</td>\n",
       "    </tr>\n",
       "  </tbody>\n",
       "</table>\n",
       "</div>"
      ],
      "text/plain": [
       "            IPG2211A2N\n",
       "DATE                  \n",
       "2018-08-01    113.2758\n",
       "2018-09-01    101.5656\n",
       "2018-10-01     95.3203\n",
       "2018-11-01    103.5750\n",
       "2018-12-01    112.9498"
      ]
     },
     "execution_count": 127,
     "metadata": {},
     "output_type": "execute_result"
    }
   ],
   "source": [
    "data=data[:'2018-12-01']\n",
    "data.tail()"
   ]
  },
  {
   "cell_type": "code",
   "execution_count": 128,
   "metadata": {},
   "outputs": [],
   "source": [
    "train=data[:len(data)-288]\n",
    "test=data[len(data)-288:]"
   ]
  },
  {
   "cell_type": "code",
   "execution_count": 129,
   "metadata": {},
   "outputs": [
    {
     "data": {
      "text/plain": [
       "{'smoothing_level': 0.6,\n",
       " 'smoothing_slope': None,\n",
       " 'smoothing_seasonal': None,\n",
       " 'damping_slope': nan,\n",
       " 'initial_level': 3.3842,\n",
       " 'initial_slope': nan,\n",
       " 'initial_seasons': array([], dtype=float64),\n",
       " 'use_boxcox': False,\n",
       " 'lamda': None,\n",
       " 'remove_bias': False}"
      ]
     },
     "execution_count": 129,
     "metadata": {},
     "output_type": "execute_result"
    }
   ],
   "source": [
    "# create class\n",
    "model = SimpleExpSmoothing(train['IPG2211A2N'])\n",
    "model_fit=model.fit(smoothing_level=0.6,optimized=False)\n",
    "model_fit.params"
   ]
  },
  {
   "cell_type": "code",
   "execution_count": 130,
   "metadata": {},
   "outputs": [],
   "source": [
    "y_hat_ses = test.copy()"
   ]
  },
  {
   "cell_type": "code",
   "execution_count": 131,
   "metadata": {},
   "outputs": [
    {
     "data": {
      "text/plain": [
       "1995-01-01    81.022825\n",
       "1995-02-01    81.022825\n",
       "1995-03-01    81.022825\n",
       "1995-04-01    81.022825\n",
       "1995-05-01    81.022825\n",
       "1995-06-01    81.022825\n",
       "1995-07-01    81.022825\n",
       "1995-08-01    81.022825\n",
       "1995-09-01    81.022825\n",
       "1995-10-01    81.022825\n",
       "1995-11-01    81.022825\n",
       "1995-12-01    81.022825\n",
       "1996-01-01    81.022825\n",
       "1996-02-01    81.022825\n",
       "1996-03-01    81.022825\n",
       "1996-04-01    81.022825\n",
       "1996-05-01    81.022825\n",
       "1996-06-01    81.022825\n",
       "1996-07-01    81.022825\n",
       "1996-08-01    81.022825\n",
       "1996-09-01    81.022825\n",
       "1996-10-01    81.022825\n",
       "1996-11-01    81.022825\n",
       "1996-12-01    81.022825\n",
       "1997-01-01    81.022825\n",
       "1997-02-01    81.022825\n",
       "1997-03-01    81.022825\n",
       "1997-04-01    81.022825\n",
       "1997-05-01    81.022825\n",
       "1997-06-01    81.022825\n",
       "                ...    \n",
       "2016-07-01    81.022825\n",
       "2016-08-01    81.022825\n",
       "2016-09-01    81.022825\n",
       "2016-10-01    81.022825\n",
       "2016-11-01    81.022825\n",
       "2016-12-01    81.022825\n",
       "2017-01-01    81.022825\n",
       "2017-02-01    81.022825\n",
       "2017-03-01    81.022825\n",
       "2017-04-01    81.022825\n",
       "2017-05-01    81.022825\n",
       "2017-06-01    81.022825\n",
       "2017-07-01    81.022825\n",
       "2017-08-01    81.022825\n",
       "2017-09-01    81.022825\n",
       "2017-10-01    81.022825\n",
       "2017-11-01    81.022825\n",
       "2017-12-01    81.022825\n",
       "2018-01-01    81.022825\n",
       "2018-02-01    81.022825\n",
       "2018-03-01    81.022825\n",
       "2018-04-01    81.022825\n",
       "2018-05-01    81.022825\n",
       "2018-06-01    81.022825\n",
       "2018-07-01    81.022825\n",
       "2018-08-01    81.022825\n",
       "2018-09-01    81.022825\n",
       "2018-10-01    81.022825\n",
       "2018-11-01    81.022825\n",
       "2018-12-01    81.022825\n",
       "Freq: MS, Length: 288, dtype: float64"
      ]
     },
     "execution_count": 131,
     "metadata": {},
     "output_type": "execute_result"
    }
   ],
   "source": [
    "x=model_fit.forecast(len(y_hat_ses['IPG2211A2N']))\n",
    "x"
   ]
  },
  {
   "cell_type": "code",
   "execution_count": 132,
   "metadata": {},
   "outputs": [
    {
     "data": {
      "text/plain": [
       "<matplotlib.legend.Legend at 0x16422780>"
      ]
     },
     "execution_count": 132,
     "metadata": {},
     "output_type": "execute_result"
    },
    {
     "data": {
      "image/png": "[encoded data removed]",
      "text/plain": [
       "<Figure size 720x432 with 1 Axes>"
      ]
     },
     "metadata": {
      "needs_background": "light"
     },
     "output_type": "display_data"
    }
   ],
   "source": [
    "plt.figure(figsize=(10,6))\n",
    "plt.plot(train['IPG2211A2N'],label='Train')\n",
    "plt.plot(test['IPG2211A2N'],label='Test')\n",
    "plt.plot(x,label='SES')\n",
    "plt.legend()"
   ]
  },
  {
   "cell_type": "code",
   "execution_count": 133,
   "metadata": {},
   "outputs": [
    {
     "data": {
      "text/plain": [
       "19.194025712681793"
      ]
     },
     "execution_count": 133,
     "metadata": {},
     "output_type": "execute_result"
    }
   ],
   "source": [
    "rmse_ses=np.sqrt(metrics.mean_squared_error(test['IPG2211A2N'],x))\n",
    "rmse_ses"
   ]
  },
  {
   "cell_type": "code",
   "execution_count": 134,
   "metadata": {},
   "outputs": [
    {
     "data": {
      "text/plain": [
       "0.15901695018195053"
      ]
     },
     "execution_count": 134,
     "metadata": {},
     "output_type": "execute_result"
    }
   ],
   "source": [
    "mape_ses=np.mean(np.abs((test['IPG2211A2N']-x)/test['IPG2211A2N']))\n",
    "mape_ses"
   ]
  },
  {
   "cell_type": "markdown",
   "metadata": {},
   "source": [
    "### Holts - Double Exp Smoothing"
   ]
  },
  {
   "cell_type": "code",
   "execution_count": 135,
   "metadata": {},
   "outputs": [
    {
     "data": {
      "text/plain": [
       "{'smoothing_level': 1.0,\n",
       " 'smoothing_slope': 0.0,\n",
       " 'smoothing_seasonal': nan,\n",
       " 'damping_slope': nan,\n",
       " 'initial_level': 3.3841467636335922,\n",
       " 'initial_slope': 0.12155032071497804,\n",
       " 'initial_seasons': array([], dtype=float64),\n",
       " 'use_boxcox': False,\n",
       " 'lamda': None,\n",
       " 'remove_bias': False}"
      ]
     },
     "execution_count": 135,
     "metadata": {},
     "output_type": "execute_result"
    }
   ],
   "source": [
    "model2=ExponentialSmoothing(np.asarray(train['IPG2211A2N']),trend='add').fit()\n",
    "model2.params"
   ]
  },
  {
   "cell_type": "code",
   "execution_count": 136,
   "metadata": {},
   "outputs": [],
   "source": [
    "y_hat_holt=test.copy()"
   ]
  },
  {
   "cell_type": "code",
   "execution_count": 137,
   "metadata": {},
   "outputs": [
    {
     "data": {
      "text/plain": [
       "DATE\n",
       "1995-01-01     85.198750\n",
       "1995-02-01     85.320301\n",
       "1995-03-01     85.441851\n",
       "1995-04-01     85.563401\n",
       "1995-05-01     85.684952\n",
       "1995-06-01     85.806502\n",
       "1995-07-01     85.928052\n",
       "1995-08-01     86.049603\n",
       "1995-09-01     86.171153\n",
       "1995-10-01     86.292703\n",
       "1995-11-01     86.414254\n",
       "1995-12-01     86.535804\n",
       "1996-01-01     86.657354\n",
       "1996-02-01     86.778904\n",
       "1996-03-01     86.900455\n",
       "1996-04-01     87.022005\n",
       "1996-05-01     87.143555\n",
       "1996-06-01     87.265106\n",
       "1996-07-01     87.386656\n",
       "1996-08-01     87.508206\n",
       "1996-09-01     87.629757\n",
       "1996-10-01     87.751307\n",
       "1996-11-01     87.872857\n",
       "1996-12-01     87.994408\n",
       "1997-01-01     88.115958\n",
       "1997-02-01     88.237508\n",
       "1997-03-01     88.359059\n",
       "1997-04-01     88.480609\n",
       "1997-05-01     88.602159\n",
       "1997-06-01     88.723710\n",
       "                 ...    \n",
       "2016-07-01    116.558733\n",
       "2016-08-01    116.680283\n",
       "2016-09-01    116.801834\n",
       "2016-10-01    116.923384\n",
       "2016-11-01    117.044934\n",
       "2016-12-01    117.166485\n",
       "2017-01-01    117.288035\n",
       "2017-02-01    117.409585\n",
       "2017-03-01    117.531136\n",
       "2017-04-01    117.652686\n",
       "2017-05-01    117.774236\n",
       "2017-06-01    117.895787\n",
       "2017-07-01    118.017337\n",
       "2017-08-01    118.138887\n",
       "2017-09-01    118.260438\n",
       "2017-10-01    118.381988\n",
       "2017-11-01    118.503538\n",
       "2017-12-01    118.625089\n",
       "2018-01-01    118.746639\n",
       "2018-02-01    118.868189\n",
       "2018-03-01    118.989739\n",
       "2018-04-01    119.111290\n",
       "2018-05-01    119.232840\n",
       "2018-06-01    119.354390\n",
       "2018-07-01    119.475941\n",
       "2018-08-01    119.597491\n",
       "2018-09-01    119.719041\n",
       "2018-10-01    119.840592\n",
       "2018-11-01    119.962142\n",
       "2018-12-01    120.083692\n",
       "Name: Holt, Length: 288, dtype: float64"
      ]
     },
     "execution_count": 137,
     "metadata": {},
     "output_type": "execute_result"
    }
   ],
   "source": [
    "y_hat_holt['Holt']=model2.forecast(len(test['IPG2211A2N']))\n",
    "y_hat_holt['Holt']"
   ]
  },
  {
   "cell_type": "code",
   "execution_count": 138,
   "metadata": {},
   "outputs": [
    {
     "data": {
      "text/plain": [
       "<matplotlib.legend.Legend at 0x1648a390>"
      ]
     },
     "execution_count": 138,
     "metadata": {},
     "output_type": "execute_result"
    },
    {
     "data": {
      "image/png": "[encoded data removed]",
      "text/plain": [
       "<Figure size 720x432 with 1 Axes>"
      ]
     },
     "metadata": {
      "needs_background": "light"
     },
     "output_type": "display_data"
    }
   ],
   "source": [
    "plt.figure(figsize=(10,6))\n",
    "plt.plot(train['IPG2211A2N'],label='Train')\n",
    "plt.plot(test['IPG2211A2N'],label='Test')\n",
    "plt.plot(y_hat_holt['Holt'],label='Holts')\n",
    "plt.legend()"
   ]
  },
  {
   "cell_type": "code",
   "execution_count": 139,
   "metadata": {},
   "outputs": [
    {
     "data": {
      "text/plain": [
       "11.336181148746745"
      ]
     },
     "execution_count": 139,
     "metadata": {},
     "output_type": "execute_result"
    }
   ],
   "source": [
    "rmse_holt=np.sqrt(metrics.mean_squared_error(test['IPG2211A2N'],y_hat_holt['Holt']))\n",
    "rmse_holt"
   ]
  },
  {
   "cell_type": "code",
   "execution_count": 140,
   "metadata": {},
   "outputs": [
    {
     "data": {
      "text/plain": [
       "0.09763564666668714"
      ]
     },
     "execution_count": 140,
     "metadata": {},
     "output_type": "execute_result"
    }
   ],
   "source": [
    "mape_holt=np.mean(np.abs((test['IPG2211A2N']-y_hat_holt['Holt'])/test['IPG2211A2N']))\n",
    "mape_holt"
   ]
  },
  {
   "cell_type": "markdown",
   "metadata": {},
   "source": [
    "### Holts Winter - Triple Exponential Smoothing"
   ]
  },
  {
   "cell_type": "markdown",
   "metadata": {},
   "source": [
    "### Additive"
   ]
  },
  {
   "cell_type": "code",
   "execution_count": 141,
   "metadata": {},
   "outputs": [
    {
     "data": {
      "text/plain": [
       "{'smoothing_level': 0.32498346276713447,\n",
       " 'smoothing_slope': 7.146348742525427e-18,\n",
       " 'smoothing_seasonal': 0.45037997091038634,\n",
       " 'damping_slope': nan,\n",
       " 'initial_level': 39.42746660433447,\n",
       " 'initial_slope': 0.11249067745002639,\n",
       " 'initial_seasons': array([-36.21157329, -36.21386363, -36.19359055, -36.20394954,\n",
       "        -36.22881502, -36.21410864, -36.24831257, -36.2582358 ,\n",
       "        -36.23588231, -36.2694682 , -36.2582632 , -36.28814213]),\n",
       " 'use_boxcox': False,\n",
       " 'lamda': None,\n",
       " 'remove_bias': False}"
      ]
     },
     "execution_count": 141,
     "metadata": {},
     "output_type": "execute_result"
    }
   ],
   "source": [
    "model3=ExponentialSmoothing(np.asarray(train['IPG2211A2N']),trend='add',seasonal='add',seasonal_periods=12).fit()\n",
    "model3.params\n",
    "# seasonal periods = 12 because data in month wise"
   ]
  },
  {
   "cell_type": "code",
   "execution_count": 144,
   "metadata": {
    "collapsed": true
   },
   "outputs": [
    {
     "data": {
      "text/plain": [
       "DATE\n",
       "1995-01-01     92.119853\n",
       "1995-02-01     85.435579\n",
       "1995-03-01     78.700869\n",
       "1995-04-01     71.370996\n",
       "1995-05-01     70.021676\n",
       "1995-06-01     77.582311\n",
       "1995-07-01     83.584848\n",
       "1995-08-01     82.789726\n",
       "1995-09-01     76.816016\n",
       "1995-10-01     72.604504\n",
       "1995-11-01     76.845500\n",
       "1995-12-01     86.750083\n",
       "1996-01-01     93.469742\n",
       "1996-02-01     86.785467\n",
       "1996-03-01     80.050757\n",
       "1996-04-01     72.720884\n",
       "1996-05-01     71.371564\n",
       "1996-06-01     78.932199\n",
       "1996-07-01     84.934736\n",
       "1996-08-01     84.139614\n",
       "1996-09-01     78.165904\n",
       "1996-10-01     73.954392\n",
       "1996-11-01     78.195388\n",
       "1996-12-01     88.099971\n",
       "1997-01-01     94.819630\n",
       "1997-02-01     88.135355\n",
       "1997-03-01     81.400645\n",
       "1997-04-01     74.070772\n",
       "1997-05-01     72.721452\n",
       "1997-06-01     80.282087\n",
       "                 ...    \n",
       "2016-07-01    111.932499\n",
       "2016-08-01    111.137377\n",
       "2016-09-01    105.163666\n",
       "2016-10-01    100.952155\n",
       "2016-11-01    105.193151\n",
       "2016-12-01    115.097734\n",
       "2017-01-01    121.817392\n",
       "2017-02-01    115.133118\n",
       "2017-03-01    108.398408\n",
       "2017-04-01    101.068535\n",
       "2017-05-01     99.719215\n",
       "2017-06-01    107.279850\n",
       "2017-07-01    113.282387\n",
       "2017-08-01    112.487265\n",
       "2017-09-01    106.513555\n",
       "2017-10-01    102.302043\n",
       "2017-11-01    106.543039\n",
       "2017-12-01    116.447622\n",
       "2018-01-01    123.167280\n",
       "2018-02-01    116.483006\n",
       "2018-03-01    109.748296\n",
       "2018-04-01    102.418423\n",
       "2018-05-01    101.069103\n",
       "2018-06-01    108.629738\n",
       "2018-07-01    114.632275\n",
       "2018-08-01    113.837153\n",
       "2018-09-01    107.863443\n",
       "2018-10-01    103.651931\n",
       "2018-11-01    107.892927\n",
       "2018-12-01    117.797510\n",
       "Name: Holt Winter Add, Length: 288, dtype: float64"
      ]
     },
     "execution_count": 144,
     "metadata": {},
     "output_type": "execute_result"
    }
   ],
   "source": [
    "y_hat_holt['Holt Winter Add']=model3.forecast(len(test['IPG2211A2N']))\n",
    "y_hat_holt['Holt Winter Add']"
   ]
  },
  {
   "cell_type": "code",
   "execution_count": 145,
   "metadata": {},
   "outputs": [
    {
     "data": {
      "text/plain": [
       "<matplotlib.legend.Legend at 0x1646c6d8>"
      ]
     },
     "execution_count": 145,
     "metadata": {},
     "output_type": "execute_result"
    },
    {
     "data": {
      "image/png": "[encoded data removed]",
      "text/plain": [
       "<Figure size 720x432 with 1 Axes>"
      ]
     },
     "metadata": {
      "needs_background": "light"
     },
     "output_type": "display_data"
    }
   ],
   "source": [
    "plt.figure(figsize=(10,6))\n",
    "plt.plot(train['IPG2211A2N'],label='Train')\n",
    "plt.plot(test['IPG2211A2N'],label='Test')\n",
    "plt.plot(y_hat_holt['Holt Winter Add'],label='Holts Winter Add')\n",
    "plt.legend()"
   ]
  },
  {
   "cell_type": "code",
   "execution_count": 146,
   "metadata": {},
   "outputs": [
    {
     "data": {
      "text/plain": [
       "5.741906281037332"
      ]
     },
     "execution_count": 146,
     "metadata": {},
     "output_type": "execute_result"
    }
   ],
   "source": [
    "rmse_winadd=np.sqrt(metrics.mean_squared_error(test['IPG2211A2N'],y_hat_holt['Holt Winter Add']))\n",
    "rmse_winadd"
   ]
  },
  {
   "cell_type": "code",
   "execution_count": 147,
   "metadata": {},
   "outputs": [
    {
     "data": {
      "text/plain": [
       "0.04879267730660125"
      ]
     },
     "execution_count": 147,
     "metadata": {},
     "output_type": "execute_result"
    }
   ],
   "source": [
    "mape_winadd=np.mean(np.abs((test['IPG2211A2N']-y_hat_holt['Holt Winter Add'])/test['IPG2211A2N']))\n",
    "mape_winadd"
   ]
  },
  {
   "cell_type": "markdown",
   "metadata": {},
   "source": [
    "### Multiplicative"
   ]
  },
  {
   "cell_type": "code",
   "execution_count": 148,
   "metadata": {},
   "outputs": [
    {
     "data": {
      "text/plain": [
       "{'smoothing_level': 0.21052631578947367,\n",
       " 'smoothing_slope': 0.05263157894736842,\n",
       " 'smoothing_seasonal': 0.3684210526315789,\n",
       " 'damping_slope': nan,\n",
       " 'initial_level': 39.787555357142864,\n",
       " 'initial_slope': 0.03067847222222223,\n",
       " 'initial_seasons': array([0.08505675, 0.08570519, 0.08765304, 0.08830148, 0.08830148,\n",
       "        0.08960088, 0.08960088, 0.09090028, 0.09349657, 0.09349657,\n",
       "        0.09414502, 0.09414502]),\n",
       " 'use_boxcox': False,\n",
       " 'lamda': None,\n",
       " 'remove_bias': False}"
      ]
     },
     "execution_count": 148,
     "metadata": {},
     "output_type": "execute_result"
    }
   ],
   "source": [
    "model5=ExponentialSmoothing(np.asarray(train['IPG2211A2N']),trend='mul',seasonal='mul',seasonal_periods=12).fit()\n",
    "model5.params\n",
    "# seasonal periods = 12 because data in month wise"
   ]
  },
  {
   "cell_type": "code",
   "execution_count": 150,
   "metadata": {},
   "outputs": [
    {
     "data": {
      "text/plain": [
       "DATE\n",
       "1995-01-01     92.724424\n",
       "1995-02-01     86.435887\n",
       "1995-03-01     79.961424\n",
       "1995-04-01     72.380174\n",
       "1995-05-01     70.661150\n",
       "1995-06-01     77.786363\n",
       "1995-07-01     83.979170\n",
       "1995-08-01     83.289208\n",
       "1995-09-01     77.123471\n",
       "1995-10-01     72.595940\n",
       "1995-11-01     76.708685\n",
       "1995-12-01     87.180415\n",
       "1996-01-01     94.120721\n",
       "1996-02-01     87.737487\n",
       "1996-03-01     81.165528\n",
       "1996-04-01     73.470115\n",
       "1996-05-01     71.725206\n",
       "1996-06-01     78.957714\n",
       "1996-07-01     85.243776\n",
       "1996-08-01     84.543424\n",
       "1996-09-01     78.284839\n",
       "1996-10-01     73.689131\n",
       "1996-11-01     77.863808\n",
       "1996-12-01     88.493227\n",
       "1997-01-01     95.538044\n",
       "1997-02-01     89.058688\n",
       "1997-03-01     82.387764\n",
       "1997-04-01     74.576470\n",
       "1997-05-01     72.805285\n",
       "1997-06-01     80.146704\n",
       "                 ...    \n",
       "2016-07-01    114.943570\n",
       "2016-08-01    113.999209\n",
       "2016-09-01    105.560070\n",
       "2016-10-01     99.363170\n",
       "2016-11-01    104.992346\n",
       "2016-12-01    119.325162\n",
       "2017-01-01    128.824465\n",
       "2017-02-01    120.087636\n",
       "2017-03-01    111.092495\n",
       "2017-04-01    100.559667\n",
       "2017-05-01     98.171383\n",
       "2017-06-01    108.070627\n",
       "2017-07-01    116.674455\n",
       "2017-08-01    115.715873\n",
       "2017-09-01    107.149653\n",
       "2017-10-01    100.859437\n",
       "2017-11-01    106.573380\n",
       "2017-12-01    121.122028\n",
       "2018-01-01    130.764377\n",
       "2018-02-01    121.895983\n",
       "2018-03-01    112.765389\n",
       "2018-04-01    102.073951\n",
       "2018-05-01     99.649703\n",
       "2018-06-01    109.698015\n",
       "2018-07-01    118.431405\n",
       "2018-08-01    117.458389\n",
       "2018-09-01    108.763173\n",
       "2018-10-01    102.378235\n",
       "2018-11-01    108.178222\n",
       "2018-12-01    122.945952\n",
       "Name: Holt Winter Mul, Length: 288, dtype: float64"
      ]
     },
     "execution_count": 150,
     "metadata": {},
     "output_type": "execute_result"
    }
   ],
   "source": [
    "y_hat_holt['Holt Winter Mul']=model5.forecast(len(test['IPG2211A2N']))\n",
    "y_hat_holt['Holt Winter Mul']"
   ]
  },
  {
   "cell_type": "code",
   "execution_count": 151,
   "metadata": {},
   "outputs": [
    {
     "data": {
      "text/plain": [
       "<matplotlib.legend.Legend at 0x177ff2e8>"
      ]
     },
     "execution_count": 151,
     "metadata": {},
     "output_type": "execute_result"
    },
    {
     "data": {
      "image/png": "[encoded data removed]",
      "text/plain": [
       "<Figure size 720x432 with 1 Axes>"
      ]
     },
     "metadata": {
      "needs_background": "light"
     },
     "output_type": "display_data"
    }
   ],
   "source": [
    "plt.figure(figsize=(10,6))\n",
    "plt.plot(train['IPG2211A2N'],label='Train')\n",
    "plt.plot(test['IPG2211A2N'],label='Test')\n",
    "plt.plot(y_hat_holt['Holt Winter Mul'],label='Holts Winter Muliplicative')\n",
    "plt.legend()"
   ]
  },
  {
   "cell_type": "code",
   "execution_count": 152,
   "metadata": {},
   "outputs": [
    {
     "data": {
      "text/plain": [
       "5.8997248095980765"
      ]
     },
     "execution_count": 152,
     "metadata": {},
     "output_type": "execute_result"
    }
   ],
   "source": [
    "rmse_mul=np.sqrt(metrics.mean_squared_error(test['IPG2211A2N'],y_hat_holt['Holt Winter Mul']))\n",
    "rmse_mul"
   ]
  },
  {
   "cell_type": "code",
   "execution_count": 153,
   "metadata": {},
   "outputs": [
    {
     "data": {
      "text/plain": [
       "0.04971581451096088"
      ]
     },
     "execution_count": 153,
     "metadata": {},
     "output_type": "execute_result"
    }
   ],
   "source": [
    "mape_mul=np.mean(np.abs((test['IPG2211A2N']-y_hat_holt['Holt Winter Mul'])/test['IPG2211A2N']))\n",
    "mape_mul"
   ]
  },
  {
   "cell_type": "code",
   "execution_count": null,
   "metadata": {},
   "outputs": [],
   "source": []
  },
  {
   "cell_type": "code",
   "execution_count": null,
   "metadata": {},
   "outputs": [],
   "source": []
  },
  {
   "cell_type": "code",
   "execution_count": 72,
   "metadata": {},
   "outputs": [
    {
     "data": {
      "text/html": [
       "<div>\n",
       "<style scoped>\n",
       "    .dataframe tbody tr th:only-of-type {\n",
       "        vertical-align: middle;\n",
       "    }\n",
       "\n",
       "    .dataframe tbody tr th {\n",
       "        vertical-align: top;\n",
       "    }\n",
       "\n",
       "    .dataframe thead th {\n",
       "        text-align: right;\n",
       "    }\n",
       "</style>\n",
       "<table border=\"1\" class=\"dataframe\">\n",
       "  <thead>\n",
       "    <tr style=\"text-align: right;\">\n",
       "      <th></th>\n",
       "      <th>Method</th>\n",
       "      <th>RMSE</th>\n",
       "      <th>MAPE</th>\n",
       "    </tr>\n",
       "  </thead>\n",
       "  <tbody>\n",
       "    <tr>\n",
       "      <th>0</th>\n",
       "      <td>Simple Avg</td>\n",
       "      <td>61.914</td>\n",
       "      <td>0.624</td>\n",
       "    </tr>\n",
       "    <tr>\n",
       "      <th>1</th>\n",
       "      <td>Moving Avg</td>\n",
       "      <td>8.769</td>\n",
       "      <td>0.074</td>\n",
       "    </tr>\n",
       "    <tr>\n",
       "      <th>2</th>\n",
       "      <td>NB</td>\n",
       "      <td>8.690</td>\n",
       "      <td>0.076</td>\n",
       "    </tr>\n",
       "    <tr>\n",
       "      <th>3</th>\n",
       "      <td>SES</td>\n",
       "      <td>19.194</td>\n",
       "      <td>0.159</td>\n",
       "    </tr>\n",
       "    <tr>\n",
       "      <th>4</th>\n",
       "      <td>Holts</td>\n",
       "      <td>11.357</td>\n",
       "      <td>0.097</td>\n",
       "    </tr>\n",
       "    <tr>\n",
       "      <th>5</th>\n",
       "      <td>Holts Winter</td>\n",
       "      <td>5.900</td>\n",
       "      <td>0.049</td>\n",
       "    </tr>\n",
       "  </tbody>\n",
       "</table>\n",
       "</div>"
      ],
      "text/plain": [
       "         Method    RMSE   MAPE\n",
       "0    Simple Avg  61.914  0.624\n",
       "1    Moving Avg   8.769  0.074\n",
       "2            NB   8.690  0.076\n",
       "3           SES  19.194  0.159\n",
       "4         Holts  11.357  0.097\n",
       "5  Holts Winter   5.900  0.049"
      ]
     },
     "execution_count": 72,
     "metadata": {},
     "output_type": "execute_result"
    }
   ],
   "source": [
    "x=pd.DataFrame({'Method':['Simple Avg','Moving Avg','NB','SES','Holts','Holts Winter'],'RMSE':[61.914,8.769,8.690,19.194,11.357,5.9]\n",
    "                ,'MAPE':[0.624,0.074,0.076,0.159,0.097,0.049]})\n",
    "x"
   ]
  },
  {
   "cell_type": "code",
   "execution_count": 73,
   "metadata": {},
   "outputs": [
    {
     "data": {
      "text/html": [
       "<div>\n",
       "<style scoped>\n",
       "    .dataframe tbody tr th:only-of-type {\n",
       "        vertical-align: middle;\n",
       "    }\n",
       "\n",
       "    .dataframe tbody tr th {\n",
       "        vertical-align: top;\n",
       "    }\n",
       "\n",
       "    .dataframe thead th {\n",
       "        text-align: right;\n",
       "    }\n",
       "</style>\n",
       "<table border=\"1\" class=\"dataframe\">\n",
       "  <thead>\n",
       "    <tr style=\"text-align: right;\">\n",
       "      <th></th>\n",
       "      <th>Method</th>\n",
       "      <th>RMSE</th>\n",
       "      <th>MAPE</th>\n",
       "    </tr>\n",
       "  </thead>\n",
       "  <tbody>\n",
       "    <tr>\n",
       "      <th>IPG</th>\n",
       "      <td>Regression On Time</td>\n",
       "      <td>9.913628</td>\n",
       "      <td>0.083623</td>\n",
       "    </tr>\n",
       "    <tr>\n",
       "      <th>IPG</th>\n",
       "      <td>Reg On Seasonality</td>\n",
       "      <td>8.335028</td>\n",
       "      <td>0.068506</td>\n",
       "    </tr>\n",
       "    <tr>\n",
       "      <th>0</th>\n",
       "      <td>AR</td>\n",
       "      <td>12.414810</td>\n",
       "      <td>0.087798</td>\n",
       "    </tr>\n",
       "    <tr>\n",
       "      <th>0</th>\n",
       "      <td>ARIMA</td>\n",
       "      <td>7.276283</td>\n",
       "      <td>0.137824</td>\n",
       "    </tr>\n",
       "    <tr>\n",
       "      <th>0</th>\n",
       "      <td>Simple Avg</td>\n",
       "      <td>61.914000</td>\n",
       "      <td>0.624000</td>\n",
       "    </tr>\n",
       "    <tr>\n",
       "      <th>1</th>\n",
       "      <td>Moving Avg</td>\n",
       "      <td>8.769000</td>\n",
       "      <td>0.074000</td>\n",
       "    </tr>\n",
       "    <tr>\n",
       "      <th>2</th>\n",
       "      <td>NB</td>\n",
       "      <td>8.690000</td>\n",
       "      <td>0.076000</td>\n",
       "    </tr>\n",
       "    <tr>\n",
       "      <th>3</th>\n",
       "      <td>SES</td>\n",
       "      <td>19.194000</td>\n",
       "      <td>0.159000</td>\n",
       "    </tr>\n",
       "    <tr>\n",
       "      <th>4</th>\n",
       "      <td>Holts</td>\n",
       "      <td>11.357000</td>\n",
       "      <td>0.097000</td>\n",
       "    </tr>\n",
       "    <tr>\n",
       "      <th>5</th>\n",
       "      <td>Holts Winter</td>\n",
       "      <td>5.900000</td>\n",
       "      <td>0.049000</td>\n",
       "    </tr>\n",
       "  </tbody>\n",
       "</table>\n",
       "</div>"
      ],
      "text/plain": [
       "                 Method       RMSE      MAPE\n",
       "IPG  Regression On Time   9.913628  0.083623\n",
       "IPG  Reg On Seasonality   8.335028  0.068506\n",
       "0                    AR  12.414810  0.087798\n",
       "0                 ARIMA   7.276283  0.137824\n",
       "0            Simple Avg  61.914000  0.624000\n",
       "1            Moving Avg   8.769000  0.074000\n",
       "2                    NB   8.690000  0.076000\n",
       "3                   SES  19.194000  0.159000\n",
       "4                 Holts  11.357000  0.097000\n",
       "5          Holts Winter   5.900000  0.049000"
      ]
     },
     "execution_count": 73,
     "metadata": {},
     "output_type": "execute_result"
    }
   ],
   "source": [
    "fin=pd.concat([fin,x],axis=0)\n",
    "fin"
   ]
  },
  {
   "cell_type": "code",
   "execution_count": 74,
   "metadata": {},
   "outputs": [
    {
     "data": {
      "text/html": [
       "<div>\n",
       "<style scoped>\n",
       "    .dataframe tbody tr th:only-of-type {\n",
       "        vertical-align: middle;\n",
       "    }\n",
       "\n",
       "    .dataframe tbody tr th {\n",
       "        vertical-align: top;\n",
       "    }\n",
       "\n",
       "    .dataframe thead th {\n",
       "        text-align: right;\n",
       "    }\n",
       "</style>\n",
       "<table border=\"1\" class=\"dataframe\">\n",
       "  <thead>\n",
       "    <tr style=\"text-align: right;\">\n",
       "      <th></th>\n",
       "      <th>Method</th>\n",
       "      <th>RMSE</th>\n",
       "      <th>MAPE</th>\n",
       "    </tr>\n",
       "  </thead>\n",
       "  <tbody>\n",
       "    <tr>\n",
       "      <th>IPG</th>\n",
       "      <td>Regression On Time</td>\n",
       "      <td>9.914</td>\n",
       "      <td>0.083623</td>\n",
       "    </tr>\n",
       "    <tr>\n",
       "      <th>IPG</th>\n",
       "      <td>Reg On Seasonality</td>\n",
       "      <td>8.335</td>\n",
       "      <td>0.068506</td>\n",
       "    </tr>\n",
       "    <tr>\n",
       "      <th>0</th>\n",
       "      <td>AR</td>\n",
       "      <td>12.415</td>\n",
       "      <td>0.087798</td>\n",
       "    </tr>\n",
       "    <tr>\n",
       "      <th>0</th>\n",
       "      <td>ARIMA</td>\n",
       "      <td>7.276</td>\n",
       "      <td>0.137824</td>\n",
       "    </tr>\n",
       "    <tr>\n",
       "      <th>0</th>\n",
       "      <td>Simple Avg</td>\n",
       "      <td>61.914</td>\n",
       "      <td>0.624000</td>\n",
       "    </tr>\n",
       "    <tr>\n",
       "      <th>1</th>\n",
       "      <td>Moving Avg</td>\n",
       "      <td>8.769</td>\n",
       "      <td>0.074000</td>\n",
       "    </tr>\n",
       "    <tr>\n",
       "      <th>2</th>\n",
       "      <td>NB</td>\n",
       "      <td>8.690</td>\n",
       "      <td>0.076000</td>\n",
       "    </tr>\n",
       "    <tr>\n",
       "      <th>3</th>\n",
       "      <td>SES</td>\n",
       "      <td>19.194</td>\n",
       "      <td>0.159000</td>\n",
       "    </tr>\n",
       "    <tr>\n",
       "      <th>4</th>\n",
       "      <td>Holts</td>\n",
       "      <td>11.357</td>\n",
       "      <td>0.097000</td>\n",
       "    </tr>\n",
       "    <tr>\n",
       "      <th>5</th>\n",
       "      <td>Holts Winter</td>\n",
       "      <td>5.900</td>\n",
       "      <td>0.049000</td>\n",
       "    </tr>\n",
       "  </tbody>\n",
       "</table>\n",
       "</div>"
      ],
      "text/plain": [
       "                 Method    RMSE      MAPE\n",
       "IPG  Regression On Time   9.914  0.083623\n",
       "IPG  Reg On Seasonality   8.335  0.068506\n",
       "0                    AR  12.415  0.087798\n",
       "0                 ARIMA   7.276  0.137824\n",
       "0            Simple Avg  61.914  0.624000\n",
       "1            Moving Avg   8.769  0.074000\n",
       "2                    NB   8.690  0.076000\n",
       "3                   SES  19.194  0.159000\n",
       "4                 Holts  11.357  0.097000\n",
       "5          Holts Winter   5.900  0.049000"
      ]
     },
     "execution_count": 74,
     "metadata": {},
     "output_type": "execute_result"
    }
   ],
   "source": [
    "fin['RMSE']=round(fin['RMSE'],3)\n",
    "fin"
   ]
  },
  {
   "cell_type": "code",
   "execution_count": 75,
   "metadata": {},
   "outputs": [
    {
     "data": {
      "text/html": [
       "<div>\n",
       "<style scoped>\n",
       "    .dataframe tbody tr th:only-of-type {\n",
       "        vertical-align: middle;\n",
       "    }\n",
       "\n",
       "    .dataframe tbody tr th {\n",
       "        vertical-align: top;\n",
       "    }\n",
       "\n",
       "    .dataframe thead th {\n",
       "        text-align: right;\n",
       "    }\n",
       "</style>\n",
       "<table border=\"1\" class=\"dataframe\">\n",
       "  <thead>\n",
       "    <tr style=\"text-align: right;\">\n",
       "      <th></th>\n",
       "      <th>Method</th>\n",
       "      <th>RMSE</th>\n",
       "      <th>MAPE</th>\n",
       "    </tr>\n",
       "  </thead>\n",
       "  <tbody>\n",
       "    <tr>\n",
       "      <th>IPG</th>\n",
       "      <td>Regression On Time</td>\n",
       "      <td>9.914</td>\n",
       "      <td>0.084</td>\n",
       "    </tr>\n",
       "    <tr>\n",
       "      <th>IPG</th>\n",
       "      <td>Reg On Seasonality</td>\n",
       "      <td>8.335</td>\n",
       "      <td>0.069</td>\n",
       "    </tr>\n",
       "    <tr>\n",
       "      <th>0</th>\n",
       "      <td>AR</td>\n",
       "      <td>12.415</td>\n",
       "      <td>0.088</td>\n",
       "    </tr>\n",
       "    <tr>\n",
       "      <th>0</th>\n",
       "      <td>ARIMA</td>\n",
       "      <td>7.276</td>\n",
       "      <td>0.138</td>\n",
       "    </tr>\n",
       "    <tr>\n",
       "      <th>0</th>\n",
       "      <td>Simple Avg</td>\n",
       "      <td>61.914</td>\n",
       "      <td>0.624</td>\n",
       "    </tr>\n",
       "    <tr>\n",
       "      <th>1</th>\n",
       "      <td>Moving Avg</td>\n",
       "      <td>8.769</td>\n",
       "      <td>0.074</td>\n",
       "    </tr>\n",
       "    <tr>\n",
       "      <th>2</th>\n",
       "      <td>NB</td>\n",
       "      <td>8.690</td>\n",
       "      <td>0.076</td>\n",
       "    </tr>\n",
       "    <tr>\n",
       "      <th>3</th>\n",
       "      <td>SES</td>\n",
       "      <td>19.194</td>\n",
       "      <td>0.159</td>\n",
       "    </tr>\n",
       "    <tr>\n",
       "      <th>4</th>\n",
       "      <td>Holts</td>\n",
       "      <td>11.357</td>\n",
       "      <td>0.097</td>\n",
       "    </tr>\n",
       "    <tr>\n",
       "      <th>5</th>\n",
       "      <td>Holts Winter</td>\n",
       "      <td>5.900</td>\n",
       "      <td>0.049</td>\n",
       "    </tr>\n",
       "  </tbody>\n",
       "</table>\n",
       "</div>"
      ],
      "text/plain": [
       "                 Method    RMSE   MAPE\n",
       "IPG  Regression On Time   9.914  0.084\n",
       "IPG  Reg On Seasonality   8.335  0.069\n",
       "0                    AR  12.415  0.088\n",
       "0                 ARIMA   7.276  0.138\n",
       "0            Simple Avg  61.914  0.624\n",
       "1            Moving Avg   8.769  0.074\n",
       "2                    NB   8.690  0.076\n",
       "3                   SES  19.194  0.159\n",
       "4                 Holts  11.357  0.097\n",
       "5          Holts Winter   5.900  0.049"
      ]
     },
     "execution_count": 75,
     "metadata": {},
     "output_type": "execute_result"
    }
   ],
   "source": [
    "fin['MAPE']=round(fin['MAPE'],3)\n",
    "fin"
   ]
  },
  {
   "cell_type": "code",
   "execution_count": 76,
   "metadata": {},
   "outputs": [
    {
     "data": {
      "text/html": [
       "<div>\n",
       "<style scoped>\n",
       "    .dataframe tbody tr th:only-of-type {\n",
       "        vertical-align: middle;\n",
       "    }\n",
       "\n",
       "    .dataframe tbody tr th {\n",
       "        vertical-align: top;\n",
       "    }\n",
       "\n",
       "    .dataframe thead th {\n",
       "        text-align: right;\n",
       "    }\n",
       "</style>\n",
       "<table border=\"1\" class=\"dataframe\">\n",
       "  <thead>\n",
       "    <tr style=\"text-align: right;\">\n",
       "      <th></th>\n",
       "      <th>Method</th>\n",
       "      <th>RMSE</th>\n",
       "      <th>MAPE</th>\n",
       "    </tr>\n",
       "  </thead>\n",
       "  <tbody>\n",
       "    <tr>\n",
       "      <th>0</th>\n",
       "      <td>Holts Winter Additive</td>\n",
       "      <td>5.742</td>\n",
       "      <td>0.048</td>\n",
       "    </tr>\n",
       "  </tbody>\n",
       "</table>\n",
       "</div>"
      ],
      "text/plain": [
       "                  Method   RMSE   MAPE\n",
       "0  Holts Winter Additive  5.742  0.048"
      ]
     },
     "execution_count": 76,
     "metadata": {},
     "output_type": "execute_result"
    }
   ],
   "source": [
    "x=pd.DataFrame({'Method':['Holts Winter Additive'],'RMSE':[5.742],'MAPE':[0.048]})\n",
    "x"
   ]
  },
  {
   "cell_type": "code",
   "execution_count": 77,
   "metadata": {},
   "outputs": [
    {
     "data": {
      "text/html": [
       "<div>\n",
       "<style scoped>\n",
       "    .dataframe tbody tr th:only-of-type {\n",
       "        vertical-align: middle;\n",
       "    }\n",
       "\n",
       "    .dataframe tbody tr th {\n",
       "        vertical-align: top;\n",
       "    }\n",
       "\n",
       "    .dataframe thead th {\n",
       "        text-align: right;\n",
       "    }\n",
       "</style>\n",
       "<table border=\"1\" class=\"dataframe\">\n",
       "  <thead>\n",
       "    <tr style=\"text-align: right;\">\n",
       "      <th></th>\n",
       "      <th>Method</th>\n",
       "      <th>RMSE</th>\n",
       "      <th>MAPE</th>\n",
       "    </tr>\n",
       "  </thead>\n",
       "  <tbody>\n",
       "    <tr>\n",
       "      <th>IPG</th>\n",
       "      <td>Regression On Time</td>\n",
       "      <td>9.914</td>\n",
       "      <td>0.084</td>\n",
       "    </tr>\n",
       "    <tr>\n",
       "      <th>IPG</th>\n",
       "      <td>Reg On Seasonality</td>\n",
       "      <td>8.335</td>\n",
       "      <td>0.069</td>\n",
       "    </tr>\n",
       "    <tr>\n",
       "      <th>0</th>\n",
       "      <td>AR</td>\n",
       "      <td>12.415</td>\n",
       "      <td>0.088</td>\n",
       "    </tr>\n",
       "    <tr>\n",
       "      <th>0</th>\n",
       "      <td>ARIMA</td>\n",
       "      <td>7.276</td>\n",
       "      <td>0.138</td>\n",
       "    </tr>\n",
       "    <tr>\n",
       "      <th>0</th>\n",
       "      <td>Simple Avg</td>\n",
       "      <td>61.914</td>\n",
       "      <td>0.624</td>\n",
       "    </tr>\n",
       "    <tr>\n",
       "      <th>1</th>\n",
       "      <td>Moving Avg</td>\n",
       "      <td>8.769</td>\n",
       "      <td>0.074</td>\n",
       "    </tr>\n",
       "    <tr>\n",
       "      <th>2</th>\n",
       "      <td>NB</td>\n",
       "      <td>8.690</td>\n",
       "      <td>0.076</td>\n",
       "    </tr>\n",
       "    <tr>\n",
       "      <th>3</th>\n",
       "      <td>SES</td>\n",
       "      <td>19.194</td>\n",
       "      <td>0.159</td>\n",
       "    </tr>\n",
       "    <tr>\n",
       "      <th>4</th>\n",
       "      <td>Holts</td>\n",
       "      <td>11.357</td>\n",
       "      <td>0.097</td>\n",
       "    </tr>\n",
       "    <tr>\n",
       "      <th>5</th>\n",
       "      <td>Holts Winter</td>\n",
       "      <td>5.900</td>\n",
       "      <td>0.049</td>\n",
       "    </tr>\n",
       "    <tr>\n",
       "      <th>0</th>\n",
       "      <td>Holts Winter Additive</td>\n",
       "      <td>5.742</td>\n",
       "      <td>0.048</td>\n",
       "    </tr>\n",
       "  </tbody>\n",
       "</table>\n",
       "</div>"
      ],
      "text/plain": [
       "                    Method    RMSE   MAPE\n",
       "IPG     Regression On Time   9.914  0.084\n",
       "IPG     Reg On Seasonality   8.335  0.069\n",
       "0                       AR  12.415  0.088\n",
       "0                    ARIMA   7.276  0.138\n",
       "0               Simple Avg  61.914  0.624\n",
       "1               Moving Avg   8.769  0.074\n",
       "2                       NB   8.690  0.076\n",
       "3                      SES  19.194  0.159\n",
       "4                    Holts  11.357  0.097\n",
       "5             Holts Winter   5.900  0.049\n",
       "0    Holts Winter Additive   5.742  0.048"
      ]
     },
     "execution_count": 77,
     "metadata": {},
     "output_type": "execute_result"
    }
   ],
   "source": [
    "fin=pd.concat([fin,x],axis=0)\n",
    "fin"
   ]
  },
  {
   "cell_type": "code",
   "execution_count": null,
   "metadata": {},
   "outputs": [],
   "source": []
  }
 ],
 "metadata": {
  "kernelspec": {
   "display_name": "Python 3",
   "language": "python",
   "name": "python3"
  },
  "language_info": {
   "codemirror_mode": {
    "name": "ipython",
    "version": 3
   },
   "file_extension": ".py",
   "mimetype": "text/x-python",
   "name": "python",
   "nbconvert_exporter": "python",
   "pygments_lexer": "ipython3",
   "version": "3.7.1"
  }
 },
 "nbformat": 4,
 "nbformat_minor": 2
}
